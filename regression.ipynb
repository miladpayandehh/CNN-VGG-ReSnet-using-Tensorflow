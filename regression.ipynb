{
  "nbformat": 4,
  "nbformat_minor": 0,
  "metadata": {
    "colab": {
      "provenance": []
    },
    "kernelspec": {
      "name": "python3",
      "display_name": "Python 3"
    },
    "language_info": {
      "name": "python"
    }
  },
  "cells": [
    {
      "cell_type": "code",
      "execution_count": null,
      "metadata": {
        "id": "YV1QizaxuzBZ"
      },
      "outputs": [],
      "source": [
        "import tensorflow as tf\n"
      ]
    },
    {
      "cell_type": "code",
      "source": [
        "from sklearn.model_selection import train_test_split"
      ],
      "metadata": {
        "id": "l4gcC8kj0uE-"
      },
      "execution_count": null,
      "outputs": []
    },
    {
      "cell_type": "code",
      "source": [
        "from sklearn.datasets import load_boston"
      ],
      "metadata": {
        "id": "DZVsW1I50-VD"
      },
      "execution_count": null,
      "outputs": []
    },
    {
      "cell_type": "code",
      "source": [
        "data = load_boston()"
      ],
      "metadata": {
        "colab": {
          "base_uri": "https://localhost:8080/"
        },
        "id": "sr9_6_iD1neD",
        "outputId": "190566e6-d1a8-4289-83c7-3fbfcd38e04d"
      },
      "execution_count": null,
      "outputs": [
        {
          "output_type": "stream",
          "name": "stderr",
          "text": [
            "/usr/local/lib/python3.8/dist-packages/sklearn/utils/deprecation.py:87: FutureWarning: Function load_boston is deprecated; `load_boston` is deprecated in 1.0 and will be removed in 1.2.\n",
            "\n",
            "    The Boston housing prices dataset has an ethical problem. You can refer to\n",
            "    the documentation of this function for further details.\n",
            "\n",
            "    The scikit-learn maintainers therefore strongly discourage the use of this\n",
            "    dataset unless the purpose of the code is to study and educate about\n",
            "    ethical issues in data science and machine learning.\n",
            "\n",
            "    In this special case, you can fetch the dataset from the original\n",
            "    source::\n",
            "\n",
            "        import pandas as pd\n",
            "        import numpy as np\n",
            "\n",
            "\n",
            "        data_url = \"http://lib.stat.cmu.edu/datasets/boston\"\n",
            "        raw_df = pd.read_csv(data_url, sep=\"\\s+\", skiprows=22, header=None)\n",
            "        data = np.hstack([raw_df.values[::2, :], raw_df.values[1::2, :2]])\n",
            "        target = raw_df.values[1::2, 2]\n",
            "\n",
            "    Alternative datasets include the California housing dataset (i.e.\n",
            "    :func:`~sklearn.datasets.fetch_california_housing`) and the Ames housing\n",
            "    dataset. You can load the datasets as follows::\n",
            "\n",
            "        from sklearn.datasets import fetch_california_housing\n",
            "        housing = fetch_california_housing()\n",
            "\n",
            "    for the California housing dataset and::\n",
            "\n",
            "        from sklearn.datasets import fetch_openml\n",
            "        housing = fetch_openml(name=\"house_prices\", as_frame=True)\n",
            "\n",
            "    for the Ames housing dataset.\n",
            "    \n",
            "  warnings.warn(msg, category=FutureWarning)\n"
          ]
        }
      ]
    },
    {
      "cell_type": "code",
      "source": [
        "x = data.data"
      ],
      "metadata": {
        "id": "8NoT3S8O1soz"
      },
      "execution_count": null,
      "outputs": []
    },
    {
      "cell_type": "code",
      "source": [
        "x"
      ],
      "metadata": {
        "colab": {
          "base_uri": "https://localhost:8080/"
        },
        "id": "94yT1j002C1z",
        "outputId": "9c542182-8532-4c08-f77a-f48c7afc1394"
      },
      "execution_count": null,
      "outputs": [
        {
          "output_type": "execute_result",
          "data": {
            "text/plain": [
              "array([[6.3200e-03, 1.8000e+01, 2.3100e+00, ..., 1.5300e+01, 3.9690e+02,\n",
              "        4.9800e+00],\n",
              "       [2.7310e-02, 0.0000e+00, 7.0700e+00, ..., 1.7800e+01, 3.9690e+02,\n",
              "        9.1400e+00],\n",
              "       [2.7290e-02, 0.0000e+00, 7.0700e+00, ..., 1.7800e+01, 3.9283e+02,\n",
              "        4.0300e+00],\n",
              "       ...,\n",
              "       [6.0760e-02, 0.0000e+00, 1.1930e+01, ..., 2.1000e+01, 3.9690e+02,\n",
              "        5.6400e+00],\n",
              "       [1.0959e-01, 0.0000e+00, 1.1930e+01, ..., 2.1000e+01, 3.9345e+02,\n",
              "        6.4800e+00],\n",
              "       [4.7410e-02, 0.0000e+00, 1.1930e+01, ..., 2.1000e+01, 3.9690e+02,\n",
              "        7.8800e+00]])"
            ]
          },
          "metadata": {},
          "execution_count": 7
        }
      ]
    },
    {
      "cell_type": "code",
      "source": [
        "x = data.data[:,2:3]"
      ],
      "metadata": {
        "id": "JG-dSwvZ2D4T"
      },
      "execution_count": null,
      "outputs": []
    },
    {
      "cell_type": "code",
      "source": [
        "x.shape"
      ],
      "metadata": {
        "colab": {
          "base_uri": "https://localhost:8080/"
        },
        "id": "LEg_sIJD2WOr",
        "outputId": "1ae2dee1-fe0b-4072-e128-078684e597cc"
      },
      "execution_count": null,
      "outputs": [
        {
          "output_type": "execute_result",
          "data": {
            "text/plain": [
              "(506, 1)"
            ]
          },
          "metadata": {},
          "execution_count": 10
        }
      ]
    },
    {
      "cell_type": "code",
      "source": [
        "y = data.target"
      ],
      "metadata": {
        "id": "37XSqAjg2cTb"
      },
      "execution_count": null,
      "outputs": []
    },
    {
      "cell_type": "code",
      "source": [
        "y"
      ],
      "metadata": {
        "colab": {
          "base_uri": "https://localhost:8080/"
        },
        "id": "Ux43Wl_32whz",
        "outputId": "d09b3ca1-aae4-402b-cd47-9308bd019f8e"
      },
      "execution_count": null,
      "outputs": [
        {
          "output_type": "execute_result",
          "data": {
            "text/plain": [
              "array([24. , 21.6, 34.7, 33.4, 36.2, 28.7, 22.9, 27.1, 16.5, 18.9, 15. ,\n",
              "       18.9, 21.7, 20.4, 18.2, 19.9, 23.1, 17.5, 20.2, 18.2, 13.6, 19.6,\n",
              "       15.2, 14.5, 15.6, 13.9, 16.6, 14.8, 18.4, 21. , 12.7, 14.5, 13.2,\n",
              "       13.1, 13.5, 18.9, 20. , 21. , 24.7, 30.8, 34.9, 26.6, 25.3, 24.7,\n",
              "       21.2, 19.3, 20. , 16.6, 14.4, 19.4, 19.7, 20.5, 25. , 23.4, 18.9,\n",
              "       35.4, 24.7, 31.6, 23.3, 19.6, 18.7, 16. , 22.2, 25. , 33. , 23.5,\n",
              "       19.4, 22. , 17.4, 20.9, 24.2, 21.7, 22.8, 23.4, 24.1, 21.4, 20. ,\n",
              "       20.8, 21.2, 20.3, 28. , 23.9, 24.8, 22.9, 23.9, 26.6, 22.5, 22.2,\n",
              "       23.6, 28.7, 22.6, 22. , 22.9, 25. , 20.6, 28.4, 21.4, 38.7, 43.8,\n",
              "       33.2, 27.5, 26.5, 18.6, 19.3, 20.1, 19.5, 19.5, 20.4, 19.8, 19.4,\n",
              "       21.7, 22.8, 18.8, 18.7, 18.5, 18.3, 21.2, 19.2, 20.4, 19.3, 22. ,\n",
              "       20.3, 20.5, 17.3, 18.8, 21.4, 15.7, 16.2, 18. , 14.3, 19.2, 19.6,\n",
              "       23. , 18.4, 15.6, 18.1, 17.4, 17.1, 13.3, 17.8, 14. , 14.4, 13.4,\n",
              "       15.6, 11.8, 13.8, 15.6, 14.6, 17.8, 15.4, 21.5, 19.6, 15.3, 19.4,\n",
              "       17. , 15.6, 13.1, 41.3, 24.3, 23.3, 27. , 50. , 50. , 50. , 22.7,\n",
              "       25. , 50. , 23.8, 23.8, 22.3, 17.4, 19.1, 23.1, 23.6, 22.6, 29.4,\n",
              "       23.2, 24.6, 29.9, 37.2, 39.8, 36.2, 37.9, 32.5, 26.4, 29.6, 50. ,\n",
              "       32. , 29.8, 34.9, 37. , 30.5, 36.4, 31.1, 29.1, 50. , 33.3, 30.3,\n",
              "       34.6, 34.9, 32.9, 24.1, 42.3, 48.5, 50. , 22.6, 24.4, 22.5, 24.4,\n",
              "       20. , 21.7, 19.3, 22.4, 28.1, 23.7, 25. , 23.3, 28.7, 21.5, 23. ,\n",
              "       26.7, 21.7, 27.5, 30.1, 44.8, 50. , 37.6, 31.6, 46.7, 31.5, 24.3,\n",
              "       31.7, 41.7, 48.3, 29. , 24. , 25.1, 31.5, 23.7, 23.3, 22. , 20.1,\n",
              "       22.2, 23.7, 17.6, 18.5, 24.3, 20.5, 24.5, 26.2, 24.4, 24.8, 29.6,\n",
              "       42.8, 21.9, 20.9, 44. , 50. , 36. , 30.1, 33.8, 43.1, 48.8, 31. ,\n",
              "       36.5, 22.8, 30.7, 50. , 43.5, 20.7, 21.1, 25.2, 24.4, 35.2, 32.4,\n",
              "       32. , 33.2, 33.1, 29.1, 35.1, 45.4, 35.4, 46. , 50. , 32.2, 22. ,\n",
              "       20.1, 23.2, 22.3, 24.8, 28.5, 37.3, 27.9, 23.9, 21.7, 28.6, 27.1,\n",
              "       20.3, 22.5, 29. , 24.8, 22. , 26.4, 33.1, 36.1, 28.4, 33.4, 28.2,\n",
              "       22.8, 20.3, 16.1, 22.1, 19.4, 21.6, 23.8, 16.2, 17.8, 19.8, 23.1,\n",
              "       21. , 23.8, 23.1, 20.4, 18.5, 25. , 24.6, 23. , 22.2, 19.3, 22.6,\n",
              "       19.8, 17.1, 19.4, 22.2, 20.7, 21.1, 19.5, 18.5, 20.6, 19. , 18.7,\n",
              "       32.7, 16.5, 23.9, 31.2, 17.5, 17.2, 23.1, 24.5, 26.6, 22.9, 24.1,\n",
              "       18.6, 30.1, 18.2, 20.6, 17.8, 21.7, 22.7, 22.6, 25. , 19.9, 20.8,\n",
              "       16.8, 21.9, 27.5, 21.9, 23.1, 50. , 50. , 50. , 50. , 50. , 13.8,\n",
              "       13.8, 15. , 13.9, 13.3, 13.1, 10.2, 10.4, 10.9, 11.3, 12.3,  8.8,\n",
              "        7.2, 10.5,  7.4, 10.2, 11.5, 15.1, 23.2,  9.7, 13.8, 12.7, 13.1,\n",
              "       12.5,  8.5,  5. ,  6.3,  5.6,  7.2, 12.1,  8.3,  8.5,  5. , 11.9,\n",
              "       27.9, 17.2, 27.5, 15. , 17.2, 17.9, 16.3,  7. ,  7.2,  7.5, 10.4,\n",
              "        8.8,  8.4, 16.7, 14.2, 20.8, 13.4, 11.7,  8.3, 10.2, 10.9, 11. ,\n",
              "        9.5, 14.5, 14.1, 16.1, 14.3, 11.7, 13.4,  9.6,  8.7,  8.4, 12.8,\n",
              "       10.5, 17.1, 18.4, 15.4, 10.8, 11.8, 14.9, 12.6, 14.1, 13. , 13.4,\n",
              "       15.2, 16.1, 17.8, 14.9, 14.1, 12.7, 13.5, 14.9, 20. , 16.4, 17.7,\n",
              "       19.5, 20.2, 21.4, 19.9, 19. , 19.1, 19.1, 20.1, 19.9, 19.6, 23.2,\n",
              "       29.8, 13.8, 13.3, 16.7, 12. , 14.6, 21.4, 23. , 23.7, 25. , 21.8,\n",
              "       20.6, 21.2, 19.1, 20.6, 15.2,  7. ,  8.1, 13.6, 20.1, 21.8, 24.5,\n",
              "       23.1, 19.7, 18.3, 21.2, 17.5, 16.8, 22.4, 20.6, 23.9, 22. , 11.9])"
            ]
          },
          "metadata": {},
          "execution_count": 12
        }
      ]
    },
    {
      "cell_type": "code",
      "source": [
        "xtrain, xtest, ytrain, ytest = train_test_split(x, y, test_size=0.3)"
      ],
      "metadata": {
        "id": "xMcXh5bj2xsD"
      },
      "execution_count": null,
      "outputs": []
    },
    {
      "cell_type": "code",
      "source": [],
      "metadata": {
        "colab": {
          "base_uri": "https://localhost:8080/"
        },
        "id": "15BVRb9t3PDt",
        "outputId": "0ea64377-6319-4f1d-b223-856c0fcf0093"
      },
      "execution_count": null,
      "outputs": [
        {
          "output_type": "execute_result",
          "data": {
            "text/plain": [
              "array([[3.49400e-01],\n",
              "       [1.68118e+01],\n",
              "       [1.78990e-01],\n",
              "       [2.25971e+01],\n",
              "       [2.63548e+00],\n",
              "       [9.32909e+00],\n",
              "       [4.55587e+00],\n",
              "       [7.67202e+00],\n",
              "       [6.21100e-02],\n",
              "       [8.24809e+00],\n",
              "       [7.25800e-01],\n",
              "       [2.48017e+01],\n",
              "       [4.11300e-02],\n",
              "       [5.64400e-02],\n",
              "       [1.51772e+01],\n",
              "       [1.27570e-01],\n",
              "       [9.72418e+00],\n",
              "       [3.77498e+00],\n",
              "       [9.59571e+00],\n",
              "       [1.15172e+00],\n",
              "       [6.14700e-01],\n",
              "       [3.39830e-01],\n",
              "       [8.38700e-02],\n",
              "       [4.22239e+00],\n",
              "       [5.20140e-01],\n",
              "       [5.73500e-02],\n",
              "       [1.08342e+01],\n",
              "       [2.05500e-02],\n",
              "       [3.30450e-01],\n",
              "       [5.66998e+00],\n",
              "       [1.10270e-01],\n",
              "       [5.40500e-01],\n",
              "       [2.69380e-01],\n",
              "       [1.19511e+01],\n",
              "       [8.82600e-02],\n",
              "       [3.47428e+00],\n",
              "       [1.61282e+00],\n",
              "       [6.32000e-03],\n",
              "       [5.09017e+00],\n",
              "       [6.86000e-02],\n",
              "       [6.63510e-01],\n",
              "       [7.95000e-02],\n",
              "       [3.55100e-02],\n",
              "       [5.58107e+00],\n",
              "       [1.22358e+00],\n",
              "       [6.90500e-02],\n",
              "       [2.14918e+00],\n",
              "       [2.89900e-02],\n",
              "       [2.10380e-01],\n",
              "       [4.07710e-01],\n",
              "       [8.01400e-02],\n",
              "       [5.70818e+00],\n",
              "       [5.73116e+00],\n",
              "       [2.24380e-01],\n",
              "       [8.26500e-02],\n",
              "       [2.36482e+01],\n",
              "       [1.50380e-01],\n",
              "       [2.37857e+00],\n",
              "       [1.40520e-01],\n",
              "       [1.35472e+00],\n",
              "       [5.82401e+00],\n",
              "       [4.54400e-02],\n",
              "       [7.89600e-02],\n",
              "       [2.54300e-02],\n",
              "       [1.25179e+00],\n",
              "       [1.14600e-01],\n",
              "       [3.41090e-01],\n",
              "       [1.43200e-02],\n",
              "       [6.16200e-02],\n",
              "       [1.10874e+01],\n",
              "       [2.17190e-01],\n",
              "       [1.03280e-01],\n",
              "       [3.58090e-01],\n",
              "       [1.43337e+01],\n",
              "       [6.37960e-01],\n",
              "       [7.05042e+00],\n",
              "       [1.41500e-01],\n",
              "       [5.50070e-01],\n",
              "       [1.40507e+01],\n",
              "       [2.77974e+00],\n",
              "       [7.75223e+00],\n",
              "       [9.82349e+00],\n",
              "       [4.68400e-02],\n",
              "       [5.29305e+00],\n",
              "       [7.36711e+00],\n",
              "       [3.32105e+00],\n",
              "       [9.26600e-02],\n",
              "       [9.25200e-02],\n",
              "       [1.20830e-01],\n",
              "       [2.53560e-01],\n",
              "       [3.18270e-01],\n",
              "       [6.27390e-01],\n",
              "       [1.30580e-01],\n",
              "       [8.66400e-02],\n",
              "       [3.16360e+00],\n",
              "       [3.87100e-02],\n",
              "       [1.96570e-01],\n",
              "       [2.73100e-02],\n",
              "       [6.07600e-02],\n",
              "       [1.00080e-01],\n",
              "       [4.03841e+00],\n",
              "       [1.71200e-01],\n",
              "       [9.39063e+00],\n",
              "       [1.23290e-01],\n",
              "       [2.15505e+00],\n",
              "       [5.37000e-01],\n",
              "       [1.18123e+01],\n",
              "       [1.06718e+01],\n",
              "       [1.40300e-01],\n",
              "       [4.41700e-02],\n",
              "       [3.51140e-01],\n",
              "       [6.89900e-02],\n",
              "       [1.81590e-01],\n",
              "       [1.59360e-01],\n",
              "       [3.35900e-02],\n",
              "       [3.58400e-02],\n",
              "       [1.70040e-01],\n",
              "       [1.20742e+00],\n",
              "       [6.79208e+01],\n",
              "       [1.41385e+00],\n",
              "       [8.18700e-02],\n",
              "       [9.06800e-02],\n",
              "       [3.15000e-02],\n",
              "       [4.01100e-02],\n",
              "       [5.42500e-02],\n",
              "       [6.71910e-01],\n",
              "       [3.46600e-02],\n",
              "       [7.85700e-01],\n",
              "       [3.44500e-02],\n",
              "       [3.69695e+00],\n",
              "       [5.11358e+01],\n",
              "       [2.83920e-01],\n",
              "       [2.37934e+00],\n",
              "       [1.77800e-02],\n",
              "       [4.30100e-02],\n",
              "       [1.55757e+01],\n",
              "       [4.57461e+01],\n",
              "       [3.25430e-01],\n",
              "       [4.74100e-02],\n",
              "       [1.53800e-02],\n",
              "       [1.09590e-01],\n",
              "       [1.41030e-01],\n",
              "       [1.00623e+01],\n",
              "       [1.22472e+01],\n",
              "       [5.40110e-01],\n",
              "       [8.52040e-01],\n",
              "       [1.64390e-01],\n",
              "       [6.80117e+00],\n",
              "       [2.76300e-02],\n",
              "       [1.44208e+01],\n",
              "       [3.82140e-01],\n",
              "       [2.33099e+00]])"
            ]
          },
          "metadata": {},
          "execution_count": 15
        }
      ]
    },
    {
      "cell_type": "code",
      "source": [
        "from tensorflow.keras.layers import Dense, Input"
      ],
      "metadata": {
        "id": "t-UnORlc3R9c"
      },
      "execution_count": null,
      "outputs": []
    },
    {
      "cell_type": "code",
      "source": [
        "from tensorflow.keras.models import Model"
      ],
      "metadata": {
        "id": "toAyk-Cx32yj"
      },
      "execution_count": null,
      "outputs": []
    },
    {
      "cell_type": "code",
      "source": [
        "i = Input(shape = (1,))\n",
        "X = Dense(1)(i)\n",
        "model = Model(i,X)"
      ],
      "metadata": {
        "id": "8iQ_MRlW4xVb"
      },
      "execution_count": null,
      "outputs": []
    },
    {
      "cell_type": "code",
      "source": [
        "model.compile(optimizer = tf.keras.optimizers.SGD(), loss = 'mse')"
      ],
      "metadata": {
        "id": "xhiBQbNd5QWd"
      },
      "execution_count": null,
      "outputs": []
    },
    {
      "cell_type": "code",
      "source": [
        "r = model.fit( xtrain , ytrain, validation_data=(xtest, ytest), epochs = 100)"
      ],
      "metadata": {
        "colab": {
          "base_uri": "https://localhost:8080/"
        },
        "id": "NCQI7wtW6AdK",
        "outputId": "59cad05f-9c8f-49ec-a88b-52da6c069d41"
      },
      "execution_count": null,
      "outputs": [
        {
          "output_type": "stream",
          "name": "stdout",
          "text": [
            "Epoch 1/100\n",
            "12/12 [==============================] - 1s 17ms/step - loss: 200742160.0000 - val_loss: 990404160.0000\n",
            "Epoch 2/100\n",
            "12/12 [==============================] - 0s 6ms/step - loss: 4713945650692096.0000 - val_loss: 164320724280934400.0000\n",
            "Epoch 3/100\n",
            "12/12 [==============================] - 0s 5ms/step - loss: 761488008488599666294784.0000 - val_loss: 150425035236848776951889920.0000\n",
            "Epoch 4/100\n",
            "12/12 [==============================] - 0s 5ms/step - loss: 1188446732287236039491054150352896.0000 - val_loss: 1477214794506159601463933689179144192.0000\n",
            "Epoch 5/100\n",
            "12/12 [==============================] - 0s 5ms/step - loss: inf - val_loss: inf                   \n",
            "Epoch 6/100\n",
            "12/12 [==============================] - 0s 7ms/step - loss: inf - val_loss: inf\n",
            "Epoch 7/100\n",
            "12/12 [==============================] - 0s 6ms/step - loss: inf - val_loss: inf\n",
            "Epoch 8/100\n",
            "12/12 [==============================] - 0s 5ms/step - loss: inf - val_loss: inf\n",
            "Epoch 9/100\n",
            "12/12 [==============================] - 0s 6ms/step - loss: nan - val_loss: nan\n",
            "Epoch 10/100\n",
            "12/12 [==============================] - 0s 5ms/step - loss: nan - val_loss: nan\n",
            "Epoch 11/100\n",
            "12/12 [==============================] - 0s 6ms/step - loss: nan - val_loss: nan\n",
            "Epoch 12/100\n",
            "12/12 [==============================] - 0s 7ms/step - loss: nan - val_loss: nan\n",
            "Epoch 13/100\n",
            "12/12 [==============================] - 0s 6ms/step - loss: nan - val_loss: nan\n",
            "Epoch 14/100\n",
            "12/12 [==============================] - 0s 6ms/step - loss: nan - val_loss: nan\n",
            "Epoch 15/100\n",
            "12/12 [==============================] - 0s 7ms/step - loss: nan - val_loss: nan\n",
            "Epoch 16/100\n",
            "12/12 [==============================] - 0s 5ms/step - loss: nan - val_loss: nan\n",
            "Epoch 17/100\n",
            "12/12 [==============================] - 0s 5ms/step - loss: nan - val_loss: nan\n",
            "Epoch 18/100\n",
            "12/12 [==============================] - 0s 6ms/step - loss: nan - val_loss: nan\n",
            "Epoch 19/100\n",
            "12/12 [==============================] - 0s 6ms/step - loss: nan - val_loss: nan\n",
            "Epoch 20/100\n",
            "12/12 [==============================] - 0s 5ms/step - loss: nan - val_loss: nan\n",
            "Epoch 21/100\n",
            "12/12 [==============================] - 0s 5ms/step - loss: nan - val_loss: nan\n",
            "Epoch 22/100\n",
            "12/12 [==============================] - 0s 5ms/step - loss: nan - val_loss: nan\n",
            "Epoch 23/100\n",
            "12/12 [==============================] - 0s 6ms/step - loss: nan - val_loss: nan\n",
            "Epoch 24/100\n",
            "12/12 [==============================] - 0s 5ms/step - loss: nan - val_loss: nan\n",
            "Epoch 25/100\n",
            "12/12 [==============================] - 0s 5ms/step - loss: nan - val_loss: nan\n",
            "Epoch 26/100\n",
            "12/12 [==============================] - 0s 5ms/step - loss: nan - val_loss: nan\n",
            "Epoch 27/100\n",
            "12/12 [==============================] - 0s 5ms/step - loss: nan - val_loss: nan\n",
            "Epoch 28/100\n",
            "12/12 [==============================] - 0s 5ms/step - loss: nan - val_loss: nan\n",
            "Epoch 29/100\n",
            "12/12 [==============================] - 0s 5ms/step - loss: nan - val_loss: nan\n",
            "Epoch 30/100\n",
            "12/12 [==============================] - 0s 5ms/step - loss: nan - val_loss: nan\n",
            "Epoch 31/100\n",
            "12/12 [==============================] - 0s 5ms/step - loss: nan - val_loss: nan\n",
            "Epoch 32/100\n",
            "12/12 [==============================] - 0s 5ms/step - loss: nan - val_loss: nan\n",
            "Epoch 33/100\n",
            "12/12 [==============================] - 0s 6ms/step - loss: nan - val_loss: nan\n",
            "Epoch 34/100\n",
            "12/12 [==============================] - 0s 6ms/step - loss: nan - val_loss: nan\n",
            "Epoch 35/100\n",
            "12/12 [==============================] - 0s 5ms/step - loss: nan - val_loss: nan\n",
            "Epoch 36/100\n",
            "12/12 [==============================] - 0s 6ms/step - loss: nan - val_loss: nan\n",
            "Epoch 37/100\n",
            "12/12 [==============================] - 0s 7ms/step - loss: nan - val_loss: nan\n",
            "Epoch 38/100\n",
            "12/12 [==============================] - 0s 6ms/step - loss: nan - val_loss: nan\n",
            "Epoch 39/100\n",
            "12/12 [==============================] - 0s 5ms/step - loss: nan - val_loss: nan\n",
            "Epoch 40/100\n",
            "12/12 [==============================] - 0s 6ms/step - loss: nan - val_loss: nan\n",
            "Epoch 41/100\n",
            "12/12 [==============================] - 0s 5ms/step - loss: nan - val_loss: nan\n",
            "Epoch 42/100\n",
            "12/12 [==============================] - 0s 5ms/step - loss: nan - val_loss: nan\n",
            "Epoch 43/100\n",
            "12/12 [==============================] - 0s 5ms/step - loss: nan - val_loss: nan\n",
            "Epoch 44/100\n",
            "12/12 [==============================] - 0s 5ms/step - loss: nan - val_loss: nan\n",
            "Epoch 45/100\n",
            "12/12 [==============================] - 0s 5ms/step - loss: nan - val_loss: nan\n",
            "Epoch 46/100\n",
            "12/12 [==============================] - 0s 5ms/step - loss: nan - val_loss: nan\n",
            "Epoch 47/100\n",
            "12/12 [==============================] - 0s 5ms/step - loss: nan - val_loss: nan\n",
            "Epoch 48/100\n",
            "12/12 [==============================] - 0s 5ms/step - loss: nan - val_loss: nan\n",
            "Epoch 49/100\n",
            "12/12 [==============================] - 0s 6ms/step - loss: nan - val_loss: nan\n",
            "Epoch 50/100\n",
            "12/12 [==============================] - 0s 7ms/step - loss: nan - val_loss: nan\n",
            "Epoch 51/100\n",
            "12/12 [==============================] - 0s 5ms/step - loss: nan - val_loss: nan\n",
            "Epoch 52/100\n",
            "12/12 [==============================] - 0s 6ms/step - loss: nan - val_loss: nan\n",
            "Epoch 53/100\n",
            "12/12 [==============================] - 0s 6ms/step - loss: nan - val_loss: nan\n",
            "Epoch 54/100\n",
            "12/12 [==============================] - 0s 5ms/step - loss: nan - val_loss: nan\n",
            "Epoch 55/100\n",
            "12/12 [==============================] - 0s 6ms/step - loss: nan - val_loss: nan\n",
            "Epoch 56/100\n",
            "12/12 [==============================] - 0s 5ms/step - loss: nan - val_loss: nan\n",
            "Epoch 57/100\n",
            "12/12 [==============================] - 0s 6ms/step - loss: nan - val_loss: nan\n",
            "Epoch 58/100\n",
            "12/12 [==============================] - 0s 5ms/step - loss: nan - val_loss: nan\n",
            "Epoch 59/100\n",
            "12/12 [==============================] - 0s 5ms/step - loss: nan - val_loss: nan\n",
            "Epoch 60/100\n",
            "12/12 [==============================] - 0s 6ms/step - loss: nan - val_loss: nan\n",
            "Epoch 61/100\n",
            "12/12 [==============================] - 0s 6ms/step - loss: nan - val_loss: nan\n",
            "Epoch 62/100\n",
            "12/12 [==============================] - 0s 5ms/step - loss: nan - val_loss: nan\n",
            "Epoch 63/100\n",
            "12/12 [==============================] - 0s 6ms/step - loss: nan - val_loss: nan\n",
            "Epoch 64/100\n",
            "12/12 [==============================] - 0s 6ms/step - loss: nan - val_loss: nan\n",
            "Epoch 65/100\n",
            "12/12 [==============================] - 0s 7ms/step - loss: nan - val_loss: nan\n",
            "Epoch 66/100\n",
            "12/12 [==============================] - 0s 6ms/step - loss: nan - val_loss: nan\n",
            "Epoch 67/100\n",
            "12/12 [==============================] - 0s 6ms/step - loss: nan - val_loss: nan\n",
            "Epoch 68/100\n",
            "12/12 [==============================] - 0s 6ms/step - loss: nan - val_loss: nan\n",
            "Epoch 69/100\n",
            "12/12 [==============================] - 0s 6ms/step - loss: nan - val_loss: nan\n",
            "Epoch 70/100\n",
            "12/12 [==============================] - 0s 6ms/step - loss: nan - val_loss: nan\n",
            "Epoch 71/100\n",
            "12/12 [==============================] - 0s 6ms/step - loss: nan - val_loss: nan\n",
            "Epoch 72/100\n",
            "12/12 [==============================] - 0s 6ms/step - loss: nan - val_loss: nan\n",
            "Epoch 73/100\n",
            "12/12 [==============================] - 0s 6ms/step - loss: nan - val_loss: nan\n",
            "Epoch 74/100\n",
            "12/12 [==============================] - 0s 5ms/step - loss: nan - val_loss: nan\n",
            "Epoch 75/100\n",
            "12/12 [==============================] - 0s 5ms/step - loss: nan - val_loss: nan\n",
            "Epoch 76/100\n",
            "12/12 [==============================] - 0s 5ms/step - loss: nan - val_loss: nan\n",
            "Epoch 77/100\n",
            "12/12 [==============================] - 0s 6ms/step - loss: nan - val_loss: nan\n",
            "Epoch 78/100\n",
            "12/12 [==============================] - 0s 5ms/step - loss: nan - val_loss: nan\n",
            "Epoch 79/100\n",
            "12/12 [==============================] - 0s 5ms/step - loss: nan - val_loss: nan\n",
            "Epoch 80/100\n",
            "12/12 [==============================] - 0s 7ms/step - loss: nan - val_loss: nan\n",
            "Epoch 81/100\n",
            "12/12 [==============================] - 0s 6ms/step - loss: nan - val_loss: nan\n",
            "Epoch 82/100\n",
            "12/12 [==============================] - 0s 6ms/step - loss: nan - val_loss: nan\n",
            "Epoch 83/100\n",
            "12/12 [==============================] - 0s 6ms/step - loss: nan - val_loss: nan\n",
            "Epoch 84/100\n",
            "12/12 [==============================] - 0s 5ms/step - loss: nan - val_loss: nan\n",
            "Epoch 85/100\n",
            "12/12 [==============================] - 0s 6ms/step - loss: nan - val_loss: nan\n",
            "Epoch 86/100\n",
            "12/12 [==============================] - 0s 5ms/step - loss: nan - val_loss: nan\n",
            "Epoch 87/100\n",
            "12/12 [==============================] - 0s 6ms/step - loss: nan - val_loss: nan\n",
            "Epoch 88/100\n",
            "12/12 [==============================] - 0s 6ms/step - loss: nan - val_loss: nan\n",
            "Epoch 89/100\n",
            "12/12 [==============================] - 0s 6ms/step - loss: nan - val_loss: nan\n",
            "Epoch 90/100\n",
            "12/12 [==============================] - 0s 5ms/step - loss: nan - val_loss: nan\n",
            "Epoch 91/100\n",
            "12/12 [==============================] - 0s 5ms/step - loss: nan - val_loss: nan\n",
            "Epoch 92/100\n",
            "12/12 [==============================] - 0s 6ms/step - loss: nan - val_loss: nan\n",
            "Epoch 93/100\n",
            "12/12 [==============================] - 0s 6ms/step - loss: nan - val_loss: nan\n",
            "Epoch 94/100\n",
            "12/12 [==============================] - 0s 6ms/step - loss: nan - val_loss: nan\n",
            "Epoch 95/100\n",
            "12/12 [==============================] - 0s 5ms/step - loss: nan - val_loss: nan\n",
            "Epoch 96/100\n",
            "12/12 [==============================] - 0s 5ms/step - loss: nan - val_loss: nan\n",
            "Epoch 97/100\n",
            "12/12 [==============================] - 0s 5ms/step - loss: nan - val_loss: nan\n",
            "Epoch 98/100\n",
            "12/12 [==============================] - 0s 6ms/step - loss: nan - val_loss: nan\n",
            "Epoch 99/100\n",
            "12/12 [==============================] - 0s 6ms/step - loss: nan - val_loss: nan\n",
            "Epoch 100/100\n",
            "12/12 [==============================] - 0s 5ms/step - loss: nan - val_loss: nan\n"
          ]
        }
      ]
    },
    {
      "cell_type": "code",
      "source": [
        "import matplotlib.pyplot as plt\n"
      ],
      "metadata": {
        "id": "jn2PDAGh6Upb"
      },
      "execution_count": null,
      "outputs": []
    },
    {
      "cell_type": "code",
      "source": [
        "plt.plot(r.history['loss'], label = 'loss')\n",
        "plt.plot(r.history['val_loss'], label = 'val_loss')\n",
        "plt.legend()"
      ],
      "metadata": {
        "colab": {
          "base_uri": "https://localhost:8080/",
          "height": 282
        },
        "id": "hZ9QEiLi6viT",
        "outputId": "fd7afc8c-8df2-443d-9ae8-6e4afa177770"
      },
      "execution_count": null,
      "outputs": [
        {
          "output_type": "execute_result",
          "data": {
            "text/plain": [
              "<matplotlib.legend.Legend at 0x7f7bfe784550>"
            ]
          },
          "metadata": {},
          "execution_count": 27
        },
        {
          "output_type": "display_data",
          "data": {
            "text/plain": [
              "<Figure size 432x288 with 1 Axes>"
            ],
            "image/png": "[encoded data removed]"
          },
          "metadata": {
            "needs_background": "light"
          }
        }
      ]
    },
    {
      "cell_type": "code",
      "source": [
        "y2 = model.predict(xtest)"
      ],
      "metadata": {
        "colab": {
          "base_uri": "https://localhost:8080/"
        },
        "id": "XfYqMcPP7EHi",
        "outputId": "78ca9479-c30f-4720-f979-8850671ea25e"
      },
      "execution_count": null,
      "outputs": [
        {
          "output_type": "stream",
          "name": "stdout",
          "text": [
            "5/5 [==============================] - 0s 2ms/step\n"
          ]
        }
      ]
    },
    {
      "cell_type": "code",
      "source": [
        "plt.scatter(y2, ytest)"
      ],
      "metadata": {
        "colab": {
          "base_uri": "https://localhost:8080/",
          "height": 282
        },
        "id": "qCkdTnd77ghb",
        "outputId": "db02c8b3-01e1-4c03-909e-bb9c8092a4fb"
      },
      "execution_count": null,
      "outputs": [
        {
          "output_type": "execute_result",
          "data": {
            "text/plain": [
              "<matplotlib.collections.PathCollection at 0x7f7bfe6bc1c0>"
            ]
          },
          "metadata": {},
          "execution_count": 29
        },
        {
          "output_type": "display_data",
          "data": {
            "text/plain": [
              "<Figure size 432x288 with 1 Axes>"
            ],
            "image/png": "[encoded data removed]"
          },
          "metadata": {
            "needs_background": "light"
          }
        }
      ]
    },
    {
      "cell_type": "code",
      "source": [],
      "metadata": {
        "id": "CL2kj09z7qaa"
      },
      "execution_count": null,
      "outputs": []
    }
  ]
}