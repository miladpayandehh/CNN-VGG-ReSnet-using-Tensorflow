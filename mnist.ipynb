{
  "nbformat": 4,
  "nbformat_minor": 0,
  "metadata": {
    "colab": {
      "provenance": []
    },
    "kernelspec": {
      "name": "python3",
      "display_name": "Python 3"
    },
    "language_info": {
      "name": "python"
    }
  },
  "cells": [
    {
      "cell_type": "code",
      "execution_count": 1,
      "metadata": {
        "id": "akZeGGc6Xk5H"
      },
      "outputs": [],
      "source": [
        "from tensorflow.keras.datasets import mnist\n"
      ]
    },
    {
      "cell_type": "code",
      "source": [
        "(xtrain, ytrain),(xtest, ytest)= mnist.load_data()"
      ],
      "metadata": {
        "id": "wynGuZXZXlom"
      },
      "execution_count": 2,
      "outputs": []
    },
    {
      "cell_type": "code",
      "source": [
        "\n",
        "import numpy as np"
      ],
      "metadata": {
        "id": "YjyUvcKKXtnl"
      },
      "execution_count": 3,
      "outputs": []
    },
    {
      "cell_type": "code",
      "source": [
        "xtrain.shape"
      ],
      "metadata": {
        "colab": {
          "base_uri": "https://localhost:8080/"
        },
        "id": "-oedDlPzdSF7",
        "outputId": "7b83e417-6fae-4551-ebfc-406bdde79f31"
      },
      "execution_count": 4,
      "outputs": [
        {
          "output_type": "execute_result",
          "data": {
            "text/plain": [
              "(60000, 28, 28)"
            ]
          },
          "metadata": {},
          "execution_count": 4
        }
      ]
    },
    {
      "cell_type": "code",
      "source": [
        "xtrain = np.expand_dims(xtrain, -1)"
      ],
      "metadata": {
        "id": "WvwdxPkIXvvc"
      },
      "execution_count": 5,
      "outputs": []
    },
    {
      "cell_type": "code",
      "source": [
        "xtest = np.expand_dims(xtest, -1)"
      ],
      "metadata": {
        "id": "s1cwsWJ3Xxgs"
      },
      "execution_count": 6,
      "outputs": []
    },
    {
      "cell_type": "code",
      "source": [
        "xtrain.shape"
      ],
      "metadata": {
        "colab": {
          "base_uri": "https://localhost:8080/"
        },
        "id": "mMH3dSsSd59X",
        "outputId": "b5779d83-360e-47e2-aeb9-15121b4f1988"
      },
      "execution_count": 7,
      "outputs": [
        {
          "output_type": "execute_result",
          "data": {
            "text/plain": [
              "(60000, 28, 28, 1)"
            ]
          },
          "metadata": {},
          "execution_count": 7
        }
      ]
    },
    {
      "cell_type": "code",
      "source": [
        "\n",
        "xtrain = xtrain/255"
      ],
      "metadata": {
        "id": "gW-RhWS9XzKM"
      },
      "execution_count": 8,
      "outputs": []
    },
    {
      "cell_type": "code",
      "source": [
        "xtest = xtest/255"
      ],
      "metadata": {
        "id": "SJOPCeP8X0tM"
      },
      "execution_count": 9,
      "outputs": []
    },
    {
      "cell_type": "code",
      "source": [
        "import tensorflow as tf"
      ],
      "metadata": {
        "id": "qpB6bn3rX2Bs"
      },
      "execution_count": 10,
      "outputs": []
    },
    {
      "cell_type": "code",
      "source": [
        "from tensorflow.keras.layers import Dense, Input, Conv2D"
      ],
      "metadata": {
        "id": "_gkIfWHPX3ZE"
      },
      "execution_count": 11,
      "outputs": []
    },
    {
      "cell_type": "code",
      "source": [
        "from tensorflow.keras.models import Model"
      ],
      "metadata": {
        "id": "Jg4nuhAXX448"
      },
      "execution_count": 12,
      "outputs": []
    },
    {
      "cell_type": "code",
      "source": [
        "from tensorflow.keras.layers import Flatten"
      ],
      "metadata": {
        "id": "Y_dj7lfHX6LM"
      },
      "execution_count": 13,
      "outputs": []
    },
    {
      "cell_type": "code",
      "source": [
        "k = len(set(ytest))"
      ],
      "metadata": {
        "id": "0aShq5aKX7j8"
      },
      "execution_count": 14,
      "outputs": []
    },
    {
      "cell_type": "code",
      "source": [
        "k"
      ],
      "metadata": {
        "colab": {
          "base_uri": "https://localhost:8080/"
        },
        "id": "0KqZGoLGfYlP",
        "outputId": "1beb4272-51e1-4873-991d-4963568df353"
      },
      "execution_count": 15,
      "outputs": [
        {
          "output_type": "execute_result",
          "data": {
            "text/plain": [
              "10"
            ]
          },
          "metadata": {},
          "execution_count": 15
        }
      ]
    },
    {
      "cell_type": "code",
      "source": [
        "i = Input(shape = xtrain[0].shape)\n",
        "x= Conv2D(32, (3,3), strides=2 , activation='relu')(i)\n",
        "x= Conv2D(64, (3,3), strides=2 , activation='relu')(x)\n",
        "x= Conv2D(128, (3,3), strides=2 , activation='relu')(x)\n",
        "x = Flatten()(x)\n",
        "x= Dense (512, activation = 'relu')(x)\n",
        "x = Dense (k, activation='softmax')(x)"
      ],
      "metadata": {
        "id": "qJnGTmFRX9NM"
      },
      "execution_count": 16,
      "outputs": []
    },
    {
      "cell_type": "code",
      "source": [
        "model= Model(i,x)"
      ],
      "metadata": {
        "id": "sBUQtiXWX-k8"
      },
      "execution_count": 17,
      "outputs": []
    },
    {
      "cell_type": "code",
      "source": [
        "model.compile(optimizer = 'adam', loss = 'sparse_categorical_crossentropy', metrics = ['accuracy'])"
      ],
      "metadata": {
        "id": "Z_0cKH-aX_z8"
      },
      "execution_count": 19,
      "outputs": []
    },
    {
      "cell_type": "code",
      "source": [
        "r = model.fit(xtrain, ytrain, validation_data=(xtest, ytest), epochs = 7)"
      ],
      "metadata": {
        "colab": {
          "base_uri": "https://localhost:8080/"
        },
        "id": "1JjVz6cMYBas",
        "outputId": "59b5c1bb-2c8d-41c1-c203-e57c85ac31c3"
      },
      "execution_count": 20,
      "outputs": [
        {
          "output_type": "stream",
          "name": "stdout",
          "text": [
            "Epoch 1/7\n",
            "1875/1875 [==============================] - 35s 18ms/step - loss: 0.1548 - accuracy: 0.9528 - val_loss: 0.0715 - val_accuracy: 0.9774\n",
            "Epoch 2/7\n",
            "1875/1875 [==============================] - 32s 17ms/step - loss: 0.0532 - accuracy: 0.9836 - val_loss: 0.0411 - val_accuracy: 0.9863\n",
            "Epoch 3/7\n",
            "1875/1875 [==============================] - 33s 18ms/step - loss: 0.0355 - accuracy: 0.9890 - val_loss: 0.0447 - val_accuracy: 0.9856\n",
            "Epoch 4/7\n",
            "1875/1875 [==============================] - 32s 17ms/step - loss: 0.0289 - accuracy: 0.9903 - val_loss: 0.0447 - val_accuracy: 0.9873\n",
            "Epoch 5/7\n",
            "1875/1875 [==============================] - 33s 18ms/step - loss: 0.0218 - accuracy: 0.9928 - val_loss: 0.0389 - val_accuracy: 0.9885\n",
            "Epoch 6/7\n",
            "1875/1875 [==============================] - 32s 17ms/step - loss: 0.0163 - accuracy: 0.9945 - val_loss: 0.0442 - val_accuracy: 0.9881\n",
            "Epoch 7/7\n",
            "1875/1875 [==============================] - 31s 17ms/step - loss: 0.0154 - accuracy: 0.9947 - val_loss: 0.0465 - val_accuracy: 0.9876\n"
          ]
        }
      ]
    },
    {
      "cell_type": "code",
      "source": [
        "import matplotlib.pyplot as plt"
      ],
      "metadata": {
        "id": "9Z3T8jxKYDGU"
      },
      "execution_count": 21,
      "outputs": []
    },
    {
      "cell_type": "code",
      "source": [
        "plt.plot(r.history['loss'], label = 'train')\n",
        "plt.plot(r.history['val_loss'], label= 'validation')\n",
        "plt.legend()"
      ],
      "metadata": {
        "colab": {
          "base_uri": "https://localhost:8080/",
          "height": 284
        },
        "id": "9e-D3m2pYG40",
        "outputId": "6dcafa62-d92b-4494-c4b8-84ad8ed61ac9"
      },
      "execution_count": 22,
      "outputs": [
        {
          "output_type": "execute_result",
          "data": {
            "text/plain": [
              "<matplotlib.legend.Legend at 0x7f63e1203df0>"
            ]
          },
          "metadata": {},
          "execution_count": 22
        },
        {
          "output_type": "display_data",
          "data": {
            "text/plain": [
              "<Figure size 432x288 with 1 Axes>"
            ],
            "image/png": "[encoded data removed]"
          },
          "metadata": {
            "needs_background": "light"
          }
        }
      ]
    },
    {
      "cell_type": "code",
      "source": [
        "plt.plot(r.history['accuracy'], label = 'train')\n",
        "plt.plot(r.history['val_accuracy'], label = 'validation')\n",
        "plt.legend()"
      ],
      "metadata": {
        "colab": {
          "base_uri": "https://localhost:8080/",
          "height": 282
        },
        "id": "d_F48F4mYI6E",
        "outputId": "247dce92-8b14-4906-b7ac-cc502550382b"
      },
      "execution_count": 23,
      "outputs": [
        {
          "output_type": "execute_result",
          "data": {
            "text/plain": [
              "<matplotlib.legend.Legend at 0x7f63e10c0e50>"
            ]
          },
          "metadata": {},
          "execution_count": 23
        },
        {
          "output_type": "display_data",
          "data": {
            "text/plain": [
              "<Figure size 432x288 with 1 Axes>"
            ],
            "image/png": "[encoded data removed]"
          },
          "metadata": {
            "needs_background": "light"
          }
        }
      ]
    },
    {
      "cell_type": "code",
      "source": [
        "pp = model.predict(xtest)"
      ],
      "metadata": {
        "colab": {
          "base_uri": "https://localhost:8080/"
        },
        "id": "qqEW9p3dYKdM",
        "outputId": "726cbc88-ecb1-47da-a4d4-37993235f3c7"
      },
      "execution_count": 24,
      "outputs": [
        {
          "output_type": "stream",
          "name": "stdout",
          "text": [
            "313/313 [==============================] - 4s 10ms/step\n"
          ]
        }
      ]
    },
    {
      "cell_type": "code",
      "source": [
        "pp[0]"
      ],
      "metadata": {
        "colab": {
          "base_uri": "https://localhost:8080/"
        },
        "id": "RiZIlWXKYMS8",
        "outputId": "3a8110c8-7e57-40b8-f0e9-bcbc6cdf447b"
      },
      "execution_count": 25,
      "outputs": [
        {
          "output_type": "execute_result",
          "data": {
            "text/plain": [
              "array([3.7780463e-09, 9.6811457e-09, 4.0689240e-08, 8.3795006e-09,\n",
              "       1.5645722e-07, 2.7551768e-09, 1.4406028e-12, 9.9999362e-01,\n",
              "       2.8536103e-08, 6.0997204e-06], dtype=float32)"
            ]
          },
          "metadata": {},
          "execution_count": 25
        }
      ]
    },
    {
      "cell_type": "code",
      "source": [
        "pp.shape"
      ],
      "metadata": {
        "colab": {
          "base_uri": "https://localhost:8080/"
        },
        "id": "_T4ID5G4YOq0",
        "outputId": "6b03a10b-daf6-4d36-99be-ba47a1542fe3"
      },
      "execution_count": 26,
      "outputs": [
        {
          "output_type": "execute_result",
          "data": {
            "text/plain": [
              "(10000, 10)"
            ]
          },
          "metadata": {},
          "execution_count": 26
        }
      ]
    },
    {
      "cell_type": "code",
      "source": [
        "ppp=[]\n",
        "for i  in range(10000):\n",
        "    x = pp[i,:].argmax()\n",
        "    ppp.append(x)"
      ],
      "metadata": {
        "id": "mFTjTHpSYP6k"
      },
      "execution_count": 27,
      "outputs": []
    },
    {
      "cell_type": "code",
      "source": [
        "x=np.random.randint(10000)\n",
        "y1=ppp[x]\n",
        "y2=ytest[x]\n",
        "print(y1)\n",
        "print(y2)"
      ],
      "metadata": {
        "colab": {
          "base_uri": "https://localhost:8080/"
        },
        "id": "CGxEpeDEYR8M",
        "outputId": "bcea835f-a30b-4af6-f4e7-ce3057d76e8e"
      },
      "execution_count": 33,
      "outputs": [
        {
          "output_type": "stream",
          "name": "stdout",
          "text": [
            "7\n",
            "7\n"
          ]
        }
      ]
    },
    {
      "cell_type": "code",
      "source": [],
      "metadata": {
        "id": "Y8y6a4gPjdWD"
      },
      "execution_count": 35,
      "outputs": []
    },
    {
      "cell_type": "code",
      "source": [],
      "metadata": {
        "id": "tAIO3U1BjsYa"
      },
      "execution_count": null,
      "outputs": []
    }
  ]
}