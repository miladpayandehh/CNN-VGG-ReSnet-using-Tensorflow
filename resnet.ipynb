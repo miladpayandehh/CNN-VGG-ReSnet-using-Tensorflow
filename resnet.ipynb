{
  "nbformat": 4,
  "nbformat_minor": 0,
  "metadata": {
    "colab": {
      "provenance": []
    },
    "kernelspec": {
      "name": "python3",
      "display_name": "Python 3"
    },
    "language_info": {
      "name": "python"
    }
  },
  "cells": [
    {
      "cell_type": "code",
      "source": [
        "from tensorflow.keras.applications.resnet50 import ResNet50 as pretrainedModel , preprocess_input"
      ],
      "metadata": {
        "id": "g0KqpNE0Ok_T"
      },
      "execution_count": 58,
      "outputs": []
    },
    {
      "cell_type": "code",
      "source": [
        "from tensorflow.keras.layers import Flatten, Dense"
      ],
      "metadata": {
        "id": "37nkEBGaR7id"
      },
      "execution_count": 65,
      "outputs": []
    },
    {
      "cell_type": "code",
      "source": [
        "from keras import models\n",
        "from tensorflow.keras.models import Model"
      ],
      "metadata": {
        "id": "SN7R-rsYSBdI"
      },
      "execution_count": 67,
      "outputs": []
    },
    {
      "cell_type": "code",
      "source": [
        "from tensorflow.keras.preprocessing import image"
      ],
      "metadata": {
        "id": "sgy7aYXxN3lz"
      },
      "execution_count": 37,
      "outputs": []
    },
    {
      "cell_type": "code",
      "execution_count": 18,
      "metadata": {
        "id": "yxrUixY59qjr"
      },
      "outputs": [],
      "source": [
        "train_path = '/content/data/train'"
      ]
    },
    {
      "cell_type": "code",
      "source": [
        "valid_path = '/content/data/test'"
      ],
      "metadata": {
        "id": "RHOZ_WYiLVBX"
      },
      "execution_count": 19,
      "outputs": []
    },
    {
      "cell_type": "code",
      "source": [
        "image_size= [50,50]"
      ],
      "metadata": {
        "id": "pAhentfbLY7F"
      },
      "execution_count": 20,
      "outputs": []
    },
    {
      "cell_type": "code",
      "source": [
        "from glob import glob"
      ],
      "metadata": {
        "id": "rtRoaATeLf67"
      },
      "execution_count": 21,
      "outputs": []
    },
    {
      "cell_type": "code",
      "source": [
        "imageFiles = glob( train_path + '/*/*.jpeg')"
      ],
      "metadata": {
        "id": "wiGn49vqLcJN"
      },
      "execution_count": 22,
      "outputs": []
    },
    {
      "cell_type": "code",
      "source": [
        "imageFiles"
      ],
      "metadata": {
        "colab": {
          "base_uri": "https://localhost:8080/"
        },
        "id": "aC3GvpQTMxq7",
        "outputId": "5b8ebf1a-7b4c-4fed-d374-6c8e2915ccc7"
      },
      "execution_count": 23,
      "outputs": [
        {
          "output_type": "execute_result",
          "data": {
            "text/plain": [
              "['/content/data/train/ill/6.jpeg',\n",
              " '/content/data/train/ill/3.jpeg',\n",
              " '/content/data/train/ill/2.jpeg',\n",
              " '/content/data/train/ill/4.jpeg',\n",
              " '/content/data/train/ill/5.jpeg',\n",
              " '/content/data/train/ill/1.jpeg',\n",
              " '/content/data/train/normal/6.jpeg',\n",
              " '/content/data/train/normal/3.jpeg',\n",
              " '/content/data/train/normal/2.jpeg',\n",
              " '/content/data/train/normal/4.jpeg',\n",
              " '/content/data/train/normal/5.jpeg',\n",
              " '/content/data/train/normal/1.jpeg']"
            ]
          },
          "metadata": {},
          "execution_count": 23
        }
      ]
    },
    {
      "cell_type": "code",
      "source": [
        "validFiles = glob( valid_path + '/*/*.jpeg')"
      ],
      "metadata": {
        "id": "2a9ewPjvLthU"
      },
      "execution_count": 27,
      "outputs": []
    },
    {
      "cell_type": "code",
      "source": [
        "validFiles"
      ],
      "metadata": {
        "colab": {
          "base_uri": "https://localhost:8080/"
        },
        "id": "T9-WyIEHM6uq",
        "outputId": "ad3c4e0d-db5a-4109-8eb8-2f87e3c55f96"
      },
      "execution_count": 28,
      "outputs": [
        {
          "output_type": "execute_result",
          "data": {
            "text/plain": [
              "['/content/data/test/ill/6.jpeg',\n",
              " '/content/data/test/ill/3.jpeg',\n",
              " '/content/data/test/ill/2.jpeg',\n",
              " '/content/data/test/ill/4.jpeg',\n",
              " '/content/data/test/ill/5.jpeg',\n",
              " '/content/data/test/ill/1.jpeg',\n",
              " '/content/data/test/normal/6.jpeg',\n",
              " '/content/data/test/normal/3.jpeg',\n",
              " '/content/data/test/normal/2.jpeg',\n",
              " '/content/data/test/normal/4.jpeg',\n",
              " '/content/data/test/normal/5.jpeg',\n",
              " '/content/data/test/normal/1.jpeg']"
            ]
          },
          "metadata": {},
          "execution_count": 28
        }
      ]
    },
    {
      "cell_type": "code",
      "source": [
        "folders = glob(train_path + '/*')"
      ],
      "metadata": {
        "id": "PnfzR-uFLy9s"
      },
      "execution_count": 29,
      "outputs": []
    },
    {
      "cell_type": "code",
      "source": [
        "folders"
      ],
      "metadata": {
        "colab": {
          "base_uri": "https://localhost:8080/"
        },
        "id": "NqHJVtl8Nj0p",
        "outputId": "2a187d35-51cf-4462-a33a-28a917fdf3af"
      },
      "execution_count": 31,
      "outputs": [
        {
          "output_type": "execute_result",
          "data": {
            "text/plain": [
              "['/content/data/train/ill', '/content/data/train/normal']"
            ]
          },
          "metadata": {},
          "execution_count": 31
        }
      ]
    },
    {
      "cell_type": "code",
      "source": [
        "import matplotlib.pyplot as plt"
      ],
      "metadata": {
        "id": "dNzC_as9NlMJ"
      },
      "execution_count": 32,
      "outputs": []
    },
    {
      "cell_type": "code",
      "source": [
        "import numpy as np"
      ],
      "metadata": {
        "id": "Dejp8D7tOMGy"
      },
      "execution_count": 35,
      "outputs": []
    },
    {
      "cell_type": "code",
      "source": [
        "plt.imshow(image.load_img(np.random.choice(imageFiles)))"
      ],
      "metadata": {
        "colab": {
          "base_uri": "https://localhost:8080/",
          "height": 287
        },
        "id": "piZmRX5lNtFJ",
        "outputId": "b0203e62-c9fb-40a3-ad40-ae5bc2f39487"
      },
      "execution_count": 40,
      "outputs": [
        {
          "output_type": "execute_result",
          "data": {
            "text/plain": [
              "<matplotlib.image.AxesImage at 0x7f61dd80b700>"
            ]
          },
          "metadata": {},
          "execution_count": 40
        },
        {
          "output_type": "display_data",
          "data": {
            "text/plain": [
              "<Figure size 432x288 with 1 Axes>"
            ],
            "image/png": "[encoded data removed]"
          },
          "metadata": {
            "needs_background": "light"
          }
        }
      ]
    },
    {
      "cell_type": "code",
      "source": [
        "ptm = pretrainedModel(\n",
        "    \n",
        "input_shape = image_size + [3],\n",
        "weights= 'imagenet',\n",
        "include_top = False\n",
        "\n",
        "\n",
        "\n",
        ")"
      ],
      "metadata": {
        "colab": {
          "base_uri": "https://localhost:8080/"
        },
        "id": "yJ2rSr7_OWDR",
        "outputId": "b2853014-5469-4e93-b0bb-e715343cff1c"
      },
      "execution_count": 62,
      "outputs": [
        {
          "output_type": "stream",
          "name": "stdout",
          "text": [
            "Downloading data from https://storage.googleapis.com/tensorflow/keras-applications/resnet/resnet50_weights_tf_dim_ordering_tf_kernels_notop.h5\n",
            "94765736/94765736 [==============================] - 5s 0us/step\n"
          ]
        }
      ]
    },
    {
      "cell_type": "code",
      "source": [
        "ptm.trainable = False"
      ],
      "metadata": {
        "id": "BNxNmCaRQVaU"
      },
      "execution_count": 63,
      "outputs": []
    },
    {
      "cell_type": "code",
      "source": [
        "k = len(folders)"
      ],
      "metadata": {
        "id": "8BvJAouQRyhC"
      },
      "execution_count": 64,
      "outputs": []
    },
    {
      "cell_type": "code",
      "source": [
        "x = Flatten()(ptm.output)\n",
        "x = Dense(k, activation = 'softmax')(x)\n",
        "model = Model (inputs = ptm.input, outputs = x)"
      ],
      "metadata": {
        "id": "Yk8DDEasR1Ry"
      },
      "execution_count": 68,
      "outputs": []
    },
    {
      "cell_type": "code",
      "source": [
        "from keras.preprocessing.image import ImageDataGenerator\n",
        "gen = ImageDataGenerator(\n",
        "    \n",
        "  rotation_range=20,\n",
        "  width_shift_range=0.1,\n",
        "  height_shift_range=0.1,\n",
        "  preprocessing_function= preprocess_input\n",
        "\n",
        "\n",
        ")"
      ],
      "metadata": {
        "id": "zc-ny3miShkp"
      },
      "execution_count": 70,
      "outputs": []
    },
    {
      "cell_type": "code",
      "source": [
        "batchsize = 128"
      ],
      "metadata": {
        "id": "Rvn2l6u9S8No"
      },
      "execution_count": 73,
      "outputs": []
    },
    {
      "cell_type": "code",
      "source": [
        "train_generator = gen.flow_from_directory(\n",
        "    train_path,\n",
        "    shuffle=True,\n",
        "    target_size= image_size,\n",
        "    batch_size= batchsize\n",
        "\n",
        "\n",
        "\n",
        "\n",
        ")"
      ],
      "metadata": {
        "colab": {
          "base_uri": "https://localhost:8080/"
        },
        "id": "mRzBdlGwTBjA",
        "outputId": "a538d5fa-6eef-4766-dd8f-446943cd3da3"
      },
      "execution_count": 74,
      "outputs": [
        {
          "output_type": "stream",
          "name": "stdout",
          "text": [
            "Found 12 images belonging to 2 classes.\n"
          ]
        }
      ]
    },
    {
      "cell_type": "code",
      "source": [
        "valid_generator = gen.flow_from_directory(\n",
        "    valid_path,\n",
        "    shuffle=True,\n",
        "    target_size= image_size,\n",
        "    batch_size= batchsize\n",
        "\n",
        "\n",
        "\n",
        ")"
      ],
      "metadata": {
        "colab": {
          "base_uri": "https://localhost:8080/"
        },
        "id": "kZFhEQMKTcBn",
        "outputId": "8452247f-7268-471a-a885-8346a797a92d"
      },
      "execution_count": 76,
      "outputs": [
        {
          "output_type": "stream",
          "name": "stdout",
          "text": [
            "Found 12 images belonging to 2 classes.\n"
          ]
        }
      ]
    },
    {
      "cell_type": "code",
      "source": [
        "model.compile(loss = 'categorical_crossentropy', optimizer = 'adam', metrics = ['accuracy'])"
      ],
      "metadata": {
        "id": "BBJqSNq1Tps_"
      },
      "execution_count": 78,
      "outputs": []
    },
    {
      "cell_type": "code",
      "source": [
        "r = model.fit_generator(train_generator, validation_data= valid_generator, epochs =5)"
      ],
      "metadata": {
        "colab": {
          "base_uri": "https://localhost:8080/"
        },
        "id": "i9B-llpNT6le",
        "outputId": "b2cc708f-81ff-4769-d88b-30905798ca27"
      },
      "execution_count": 79,
      "outputs": [
        {
          "output_type": "stream",
          "name": "stderr",
          "text": [
            "<ipython-input-79-6d96cb70fab0>:1: UserWarning: `Model.fit_generator` is deprecated and will be removed in a future version. Please use `Model.fit`, which supports generators.\n",
            "  r = model.fit_generator(train_generator, validation_data= valid_generator, epochs =5)\n"
          ]
        },
        {
          "output_type": "stream",
          "name": "stdout",
          "text": [
            "Epoch 1/5\n",
            "1/1 [==============================] - 8s 8s/step - loss: 2.6960 - accuracy: 0.5000 - val_loss: 3.4854 - val_accuracy: 0.5000\n",
            "Epoch 2/5\n",
            "1/1 [==============================] - 1s 824ms/step - loss: 4.6152 - accuracy: 0.5000 - val_loss: 3.6151 - val_accuracy: 0.5000\n",
            "Epoch 3/5\n",
            "1/1 [==============================] - 1s 787ms/step - loss: 1.7375 - accuracy: 0.5833 - val_loss: 1.1483 - val_accuracy: 0.5000\n",
            "Epoch 4/5\n",
            "1/1 [==============================] - 1s 1s/step - loss: 0.2078 - accuracy: 0.8333 - val_loss: 1.4930 - val_accuracy: 0.4167\n",
            "Epoch 5/5\n",
            "1/1 [==============================] - 1s 803ms/step - loss: 0.7735 - accuracy: 0.8333 - val_loss: 0.7647 - val_accuracy: 0.7500\n"
          ]
        }
      ]
    },
    {
      "cell_type": "code",
      "source": [
        "plt.plot(r.history['loss'], label = 'loss')\n",
        "plt.plot(r.history['val_loss'], label = 'val_loss')"
      ],
      "metadata": {
        "colab": {
          "base_uri": "https://localhost:8080/",
          "height": 283
        },
        "id": "2YH0Al44UL1H",
        "outputId": "e496adcf-c9ef-4afa-ff43-9cc14b516b73"
      },
      "execution_count": 80,
      "outputs": [
        {
          "output_type": "execute_result",
          "data": {
            "text/plain": [
              "[<matplotlib.lines.Line2D at 0x7f61d426e6a0>]"
            ]
          },
          "metadata": {},
          "execution_count": 80
        },
        {
          "output_type": "display_data",
          "data": {
            "text/plain": [
              "<Figure size 432x288 with 1 Axes>"
            ],
            "image/png": "[encoded data removed]"
          },
          "metadata": {
            "needs_background": "light"
          }
        }
      ]
    },
    {
      "cell_type": "code",
      "source": [
        "plt.plot(r.history['accuracy'], label = 'accuracy')\n",
        "plt.plot(r.history['val_accuracy'], label = 'val_accuracy')"
      ],
      "metadata": {
        "colab": {
          "base_uri": "https://localhost:8080/",
          "height": 283
        },
        "id": "YWOdNaDyUbsm",
        "outputId": "b7841aa4-8bfa-4738-f111-f4b2c53e9e06"
      },
      "execution_count": 81,
      "outputs": [
        {
          "output_type": "execute_result",
          "data": {
            "text/plain": [
              "[<matplotlib.lines.Line2D at 0x7f61d41866a0>]"
            ]
          },
          "metadata": {},
          "execution_count": 81
        },
        {
          "output_type": "display_data",
          "data": {
            "text/plain": [
              "<Figure size 432x288 with 1 Axes>"
            ],
            "image/png": "[encoded data removed]"
          },
          "metadata": {
            "needs_background": "light"
          }
        }
      ]
    },
    {
      "cell_type": "code",
      "source": [],
      "metadata": {
        "id": "BdnTh-yCUkS1"
      },
      "execution_count": null,
      "outputs": []
    }
  ]
}