{
  "nbformat": 4,
  "nbformat_minor": 0,
  "metadata": {
    "colab": {
      "provenance": []
    },
    "kernelspec": {
      "name": "python3",
      "display_name": "Python 3"
    },
    "language_info": {
      "name": "python"
    }
  },
  "cells": [
    {
      "cell_type": "code",
      "execution_count": 1,
      "metadata": {
        "id": "akZeGGc6Xk5H"
      },
      "outputs": [],
      "source": [
        "from tensorflow.keras.datasets import fashion_mnist\n"
      ]
    },
    {
      "cell_type": "code",
      "source": [
        "(xtrain, ytrain),(xtest, ytest)= fashion_mnist.load_data()"
      ],
      "metadata": {
        "id": "wynGuZXZXlom"
      },
      "execution_count": 2,
      "outputs": []
    },
    {
      "cell_type": "code",
      "source": [
        "\n",
        "import numpy as np"
      ],
      "metadata": {
        "id": "YjyUvcKKXtnl"
      },
      "execution_count": 3,
      "outputs": []
    },
    {
      "cell_type": "code",
      "source": [
        "xtrain.shape"
      ],
      "metadata": {
        "colab": {
          "base_uri": "https://localhost:8080/"
        },
        "id": "IYoRffuzmu0M",
        "outputId": "473e3d54-5fa8-4e34-8d1a-c7b2574880f1"
      },
      "execution_count": 4,
      "outputs": [
        {
          "output_type": "execute_result",
          "data": {
            "text/plain": [
              "(60000, 28, 28)"
            ]
          },
          "metadata": {},
          "execution_count": 4
        }
      ]
    },
    {
      "cell_type": "code",
      "source": [
        "xtrain = np.expand_dims(xtrain, -1)"
      ],
      "metadata": {
        "id": "xEJKrrBSljx0"
      },
      "execution_count": 7,
      "outputs": []
    },
    {
      "cell_type": "code",
      "source": [
        "xtest = np.expand_dims(xtest, -1)"
      ],
      "metadata": {
        "id": "JLt0OW61lkwa"
      },
      "execution_count": 8,
      "outputs": []
    },
    {
      "cell_type": "code",
      "source": [
        "xtrain.shape\n"
      ],
      "metadata": {
        "colab": {
          "base_uri": "https://localhost:8080/"
        },
        "id": "-oedDlPzdSF7",
        "outputId": "6a33797c-8737-4df2-8081-6747098ab252"
      },
      "execution_count": 9,
      "outputs": [
        {
          "output_type": "execute_result",
          "data": {
            "text/plain": [
              "(60000, 28, 28, 1)"
            ]
          },
          "metadata": {},
          "execution_count": 9
        }
      ]
    },
    {
      "cell_type": "code",
      "source": [
        "xtrain.shape"
      ],
      "metadata": {
        "colab": {
          "base_uri": "https://localhost:8080/"
        },
        "id": "mMH3dSsSd59X",
        "outputId": "af64a5a7-9c58-4f7b-9c04-0ce7ef215e24"
      },
      "execution_count": 10,
      "outputs": [
        {
          "output_type": "execute_result",
          "data": {
            "text/plain": [
              "(60000, 28, 28, 1)"
            ]
          },
          "metadata": {},
          "execution_count": 10
        }
      ]
    },
    {
      "cell_type": "code",
      "source": [
        "\n",
        "xtrain = xtrain/255"
      ],
      "metadata": {
        "id": "gW-RhWS9XzKM"
      },
      "execution_count": 11,
      "outputs": []
    },
    {
      "cell_type": "code",
      "source": [
        "xtest = xtest/255"
      ],
      "metadata": {
        "id": "SJOPCeP8X0tM"
      },
      "execution_count": 12,
      "outputs": []
    },
    {
      "cell_type": "code",
      "source": [
        "import tensorflow as tf"
      ],
      "metadata": {
        "id": "qpB6bn3rX2Bs"
      },
      "execution_count": 13,
      "outputs": []
    },
    {
      "cell_type": "code",
      "source": [
        "from tensorflow.keras.layers import Dense, Input, Conv2D"
      ],
      "metadata": {
        "id": "_gkIfWHPX3ZE"
      },
      "execution_count": 14,
      "outputs": []
    },
    {
      "cell_type": "code",
      "source": [
        "from tensorflow.keras.models import Model"
      ],
      "metadata": {
        "id": "Jg4nuhAXX448"
      },
      "execution_count": 15,
      "outputs": []
    },
    {
      "cell_type": "code",
      "source": [
        "from tensorflow.keras.layers import Flatten"
      ],
      "metadata": {
        "id": "Y_dj7lfHX6LM"
      },
      "execution_count": 16,
      "outputs": []
    },
    {
      "cell_type": "code",
      "source": [
        "k = len(set(ytest))\n"
      ],
      "metadata": {
        "id": "0aShq5aKX7j8"
      },
      "execution_count": 17,
      "outputs": []
    },
    {
      "cell_type": "code",
      "source": [
        "k"
      ],
      "metadata": {
        "colab": {
          "base_uri": "https://localhost:8080/"
        },
        "id": "0KqZGoLGfYlP",
        "outputId": "d326b10c-5305-49cc-86c0-f08940242b63"
      },
      "execution_count": 18,
      "outputs": [
        {
          "output_type": "execute_result",
          "data": {
            "text/plain": [
              "10"
            ]
          },
          "metadata": {},
          "execution_count": 18
        }
      ]
    },
    {
      "cell_type": "code",
      "source": [
        "i = Input(shape = xtrain[0].shape)\n",
        "x= Conv2D(32, (3,3), strides=2 , activation='relu')(i)\n",
        "x= Conv2D(64, (3,3), strides=2 , activation='relu')(x)\n",
        "x= Conv2D(128, (3,3), strides=2 , activation='relu')(x)\n",
        "x = Flatten()(x)\n",
        "x= Dense (512, activation = 'relu')(x)\n",
        "x = Dense (k, activation='softmax')(x)"
      ],
      "metadata": {
        "id": "qJnGTmFRX9NM"
      },
      "execution_count": 19,
      "outputs": []
    },
    {
      "cell_type": "code",
      "source": [
        "model= Model(i,x)"
      ],
      "metadata": {
        "id": "sBUQtiXWX-k8"
      },
      "execution_count": 20,
      "outputs": []
    },
    {
      "cell_type": "code",
      "source": [
        "model.compile(optimizer = 'adam', loss = 'sparse_categorical_crossentropy', metrics = ['accuracy'])"
      ],
      "metadata": {
        "id": "Z_0cKH-aX_z8"
      },
      "execution_count": 21,
      "outputs": []
    },
    {
      "cell_type": "code",
      "source": [
        "r = model.fit(xtrain, ytrain, validation_data=(xtest, ytest), epochs = 7)"
      ],
      "metadata": {
        "colab": {
          "base_uri": "https://localhost:8080/"
        },
        "id": "1JjVz6cMYBas",
        "outputId": "117e14df-30a1-4bf7-97c2-8d3e99455503"
      },
      "execution_count": 22,
      "outputs": [
        {
          "output_type": "stream",
          "name": "stdout",
          "text": [
            "Epoch 1/7\n",
            "1875/1875 [==============================] - 37s 19ms/step - loss: 0.4930 - accuracy: 0.8180 - val_loss: 0.4001 - val_accuracy: 0.8478\n",
            "Epoch 2/7\n",
            "1875/1875 [==============================] - 31s 17ms/step - loss: 0.3351 - accuracy: 0.8745 - val_loss: 0.3315 - val_accuracy: 0.8776\n",
            "Epoch 3/7\n",
            "1875/1875 [==============================] - 33s 18ms/step - loss: 0.2795 - accuracy: 0.8951 - val_loss: 0.3289 - val_accuracy: 0.8783\n",
            "Epoch 4/7\n",
            "1875/1875 [==============================] - 32s 17ms/step - loss: 0.2407 - accuracy: 0.9090 - val_loss: 0.3033 - val_accuracy: 0.8904\n",
            "Epoch 5/7\n",
            "1875/1875 [==============================] - 35s 19ms/step - loss: 0.2097 - accuracy: 0.9215 - val_loss: 0.3015 - val_accuracy: 0.8983\n",
            "Epoch 6/7\n",
            "1875/1875 [==============================] - 32s 17ms/step - loss: 0.1813 - accuracy: 0.9319 - val_loss: 0.3064 - val_accuracy: 0.8980\n",
            "Epoch 7/7\n",
            "1875/1875 [==============================] - 34s 18ms/step - loss: 0.1555 - accuracy: 0.9402 - val_loss: 0.3292 - val_accuracy: 0.8938\n"
          ]
        }
      ]
    },
    {
      "cell_type": "code",
      "source": [
        "import matplotlib.pyplot as plt"
      ],
      "metadata": {
        "id": "9Z3T8jxKYDGU"
      },
      "execution_count": 23,
      "outputs": []
    },
    {
      "cell_type": "code",
      "source": [
        "plt.imshow(xtest[20], cmap = 'gray')"
      ],
      "metadata": {
        "colab": {
          "base_uri": "https://localhost:8080/",
          "height": 282
        },
        "id": "RXWlpsthm9DA",
        "outputId": "a4988811-15b8-45d0-e418-d2ac58bd59b8"
      },
      "execution_count": 31,
      "outputs": [
        {
          "output_type": "execute_result",
          "data": {
            "text/plain": [
              "<matplotlib.image.AxesImage at 0x7f277a5e9c40>"
            ]
          },
          "metadata": {},
          "execution_count": 31
        },
        {
          "output_type": "display_data",
          "data": {
            "text/plain": [
              "<Figure size 432x288 with 1 Axes>"
            ],
            "image/png": "[encoded data removed]"
          },
          "metadata": {
            "needs_background": "light"
          }
        }
      ]
    },
    {
      "cell_type": "code",
      "source": [
        "ytest[0]"
      ],
      "metadata": {
        "colab": {
          "base_uri": "https://localhost:8080/"
        },
        "id": "sqaNy1GKp5LS",
        "outputId": "0e25fda8-c64f-4ebe-a87f-dd1819d0195a"
      },
      "execution_count": 36,
      "outputs": [
        {
          "output_type": "execute_result",
          "data": {
            "text/plain": [
              "9"
            ]
          },
          "metadata": {},
          "execution_count": 36
        }
      ]
    },
    {
      "cell_type": "code",
      "source": [
        "plt.plot(r.history['loss'], label = 'train')\n",
        "plt.plot(r.history['val_loss'], label= 'validation')\n",
        "plt.legend()"
      ],
      "metadata": {
        "colab": {
          "base_uri": "https://localhost:8080/",
          "height": 282
        },
        "id": "9e-D3m2pYG40",
        "outputId": "b71335a5-93d3-4856-fcaa-dc015823a443"
      },
      "execution_count": 32,
      "outputs": [
        {
          "output_type": "execute_result",
          "data": {
            "text/plain": [
              "<matplotlib.legend.Legend at 0x7f277a8d9070>"
            ]
          },
          "metadata": {},
          "execution_count": 32
        },
        {
          "output_type": "display_data",
          "data": {
            "text/plain": [
              "<Figure size 432x288 with 1 Axes>"
            ],
            "image/png": "[encoded data removed]"
          },
          "metadata": {
            "needs_background": "light"
          }
        }
      ]
    },
    {
      "cell_type": "code",
      "source": [
        "plt.plot(r.history['accuracy'], label = 'train')\n",
        "plt.plot(r.history['val_accuracy'], label = 'validation')\n",
        "plt.legend()"
      ],
      "metadata": {
        "colab": {
          "base_uri": "https://localhost:8080/",
          "height": 282
        },
        "id": "d_F48F4mYI6E",
        "outputId": "9f69ab90-cffd-4873-9e1f-a619ecee18e8"
      },
      "execution_count": 33,
      "outputs": [
        {
          "output_type": "execute_result",
          "data": {
            "text/plain": [
              "<matplotlib.legend.Legend at 0x7f2759b02fd0>"
            ]
          },
          "metadata": {},
          "execution_count": 33
        },
        {
          "output_type": "display_data",
          "data": {
            "text/plain": [
              "<Figure size 432x288 with 1 Axes>"
            ],
            "image/png": "[encoded data removed]"
          },
          "metadata": {
            "needs_background": "light"
          }
        }
      ]
    },
    {
      "cell_type": "code",
      "source": [
        "pp = model.predict(xtest)"
      ],
      "metadata": {
        "colab": {
          "base_uri": "https://localhost:8080/"
        },
        "id": "qqEW9p3dYKdM",
        "outputId": "1cf52e20-3333-4dd2-f601-60a320a9793f"
      },
      "execution_count": 34,
      "outputs": [
        {
          "output_type": "stream",
          "name": "stdout",
          "text": [
            "313/313 [==============================] - 3s 9ms/step\n"
          ]
        }
      ]
    },
    {
      "cell_type": "code",
      "source": [
        "pp[0]"
      ],
      "metadata": {
        "colab": {
          "base_uri": "https://localhost:8080/"
        },
        "id": "RiZIlWXKYMS8",
        "outputId": "e2599f49-a515-4695-9f1c-a34361d4ba60"
      },
      "execution_count": 35,
      "outputs": [
        {
          "output_type": "execute_result",
          "data": {
            "text/plain": [
              "array([2.1373434e-09, 1.0541673e-10, 3.7913686e-10, 1.5898807e-10,\n",
              "       5.1825872e-08, 9.1887923e-05, 2.3833104e-09, 1.5858188e-05,\n",
              "       9.8184554e-09, 9.9989218e-01], dtype=float32)"
            ]
          },
          "metadata": {},
          "execution_count": 35
        }
      ]
    },
    {
      "cell_type": "code",
      "source": [
        "pp.shape"
      ],
      "metadata": {
        "colab": {
          "base_uri": "https://localhost:8080/"
        },
        "id": "_T4ID5G4YOq0",
        "outputId": "6b03a10b-daf6-4d36-99be-ba47a1542fe3"
      },
      "execution_count": null,
      "outputs": [
        {
          "output_type": "execute_result",
          "data": {
            "text/plain": [
              "(10000, 10)"
            ]
          },
          "metadata": {},
          "execution_count": 26
        }
      ]
    },
    {
      "cell_type": "code",
      "source": [
        "ppp=[]\n",
        "for i  in range(10000):\n",
        "    x = pp[i,:].argmax()\n",
        "    ppp.append(x)"
      ],
      "metadata": {
        "id": "mFTjTHpSYP6k"
      },
      "execution_count": 37,
      "outputs": []
    },
    {
      "cell_type": "code",
      "source": [
        "x=np.random.randint(10000)\n",
        "y1=ppp[x]\n",
        "y2=ytest[x]\n",
        "print(y1)\n",
        "print(y2)"
      ],
      "metadata": {
        "colab": {
          "base_uri": "https://localhost:8080/"
        },
        "id": "CGxEpeDEYR8M",
        "outputId": "f898c63e-1c36-4069-f459-3c4c7d0ff197"
      },
      "execution_count": 41,
      "outputs": [
        {
          "output_type": "stream",
          "name": "stdout",
          "text": [
            "7\n",
            "7\n"
          ]
        }
      ]
    },
    {
      "cell_type": "code",
      "source": [],
      "metadata": {
        "id": "Y8y6a4gPjdWD"
      },
      "execution_count": 40,
      "outputs": []
    },
    {
      "cell_type": "code",
      "source": [],
      "metadata": {
        "id": "tAIO3U1BjsYa"
      },
      "execution_count": null,
      "outputs": []
    }
  ]
}