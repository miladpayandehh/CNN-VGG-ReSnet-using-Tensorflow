{
  "nbformat": 4,
  "nbformat_minor": 0,
  "metadata": {
    "colab": {
      "provenance": []
    },
    "kernelspec": {
      "name": "python3",
      "display_name": "Python 3"
    },
    "language_info": {
      "name": "python"
    }
  },
  "cells": [
    {
      "cell_type": "code",
      "execution_count": null,
      "metadata": {
        "id": "LurlQM1_-N-Y"
      },
      "outputs": [],
      "source": [
        "import tensorflow as tf"
      ]
    },
    {
      "cell_type": "code",
      "source": [
        "from sklearn.datasets import make_blobs"
      ],
      "metadata": {
        "id": "Dis4hom--PCC"
      },
      "execution_count": null,
      "outputs": []
    },
    {
      "cell_type": "code",
      "source": [
        "x,y = make_blobs(n_samples=100, centers=2)"
      ],
      "metadata": {
        "id": "eqVnyRPA-RCh"
      },
      "execution_count": null,
      "outputs": []
    },
    {
      "cell_type": "code",
      "source": [
        "from tensorflow.keras.layers import Dense, Input"
      ],
      "metadata": {
        "id": "aDZrvk0FB1UN"
      },
      "execution_count": null,
      "outputs": []
    },
    {
      "cell_type": "code",
      "source": [
        "from tensorflow.keras.models import Model"
      ],
      "metadata": {
        "id": "IB5QafitB88S"
      },
      "execution_count": null,
      "outputs": []
    },
    {
      "cell_type": "code",
      "source": [
        "i = Input(shape = (2,))\n",
        "X = Dense(1 , activation  ='sigmoid')(i)\n",
        "model = Model(i,X)"
      ],
      "metadata": {
        "id": "gr5OjhnL-Swp"
      },
      "execution_count": null,
      "outputs": []
    },
    {
      "cell_type": "code",
      "source": [
        "model.compile(optimizer = 'adam', loss= 'binary_crossentropy', metrics = ['accuracy'])"
      ],
      "metadata": {
        "id": "XNR54P8X-U8J"
      },
      "execution_count": null,
      "outputs": []
    },
    {
      "cell_type": "code",
      "source": [
        "from sklearn.model_selection import train_test_split"
      ],
      "metadata": {
        "id": "7cFc6lyg-h9n"
      },
      "execution_count": null,
      "outputs": []
    },
    {
      "cell_type": "code",
      "source": [
        "xtrain, xtest, ytrain, ytest = train_test_split(x,y, test_size=0.33)"
      ],
      "metadata": {
        "id": "EbWDMwA5-jpH"
      },
      "execution_count": null,
      "outputs": []
    },
    {
      "cell_type": "code",
      "source": [
        "r = model.fit(xtrain, ytrain, validation_data=(xtest, ytest), epochs=100 )"
      ],
      "metadata": {
        "colab": {
          "base_uri": "https://localhost:8080/"
        },
        "id": "8OKjJd5R-lLP",
        "outputId": "ebd76911-05c7-4fdf-9f1d-41d2da0340b1"
      },
      "execution_count": null,
      "outputs": [
        {
          "output_type": "stream",
          "name": "stdout",
          "text": [
            "Epoch 1/100\n",
            "3/3 [==============================] - 1s 112ms/step - loss: 1.6652 - accuracy: 0.0000e+00 - val_loss: 1.6001 - val_accuracy: 0.0000e+00\n",
            "Epoch 2/100\n",
            "3/3 [==============================] - 0s 29ms/step - loss: 1.6470 - accuracy: 0.0000e+00 - val_loss: 1.5834 - val_accuracy: 0.0000e+00\n",
            "Epoch 3/100\n",
            "3/3 [==============================] - 0s 21ms/step - loss: 1.6292 - accuracy: 0.0000e+00 - val_loss: 1.5668 - val_accuracy: 0.0000e+00\n",
            "Epoch 4/100\n",
            "3/3 [==============================] - 0s 24ms/step - loss: 1.6115 - accuracy: 0.0000e+00 - val_loss: 1.5506 - val_accuracy: 0.0000e+00\n",
            "Epoch 5/100\n",
            "3/3 [==============================] - 0s 22ms/step - loss: 1.5945 - accuracy: 0.0000e+00 - val_loss: 1.5346 - val_accuracy: 0.0000e+00\n",
            "Epoch 6/100\n",
            "3/3 [==============================] - 0s 21ms/step - loss: 1.5773 - accuracy: 0.0000e+00 - val_loss: 1.5187 - val_accuracy: 0.0000e+00\n",
            "Epoch 7/100\n",
            "3/3 [==============================] - 0s 29ms/step - loss: 1.5603 - accuracy: 0.0000e+00 - val_loss: 1.5029 - val_accuracy: 0.0000e+00\n",
            "Epoch 8/100\n",
            "3/3 [==============================] - 0s 29ms/step - loss: 1.5434 - accuracy: 0.0000e+00 - val_loss: 1.4871 - val_accuracy: 0.0000e+00\n",
            "Epoch 9/100\n",
            "3/3 [==============================] - 0s 31ms/step - loss: 1.5266 - accuracy: 0.0000e+00 - val_loss: 1.4712 - val_accuracy: 0.0000e+00\n",
            "Epoch 10/100\n",
            "3/3 [==============================] - 0s 22ms/step - loss: 1.5094 - accuracy: 0.0000e+00 - val_loss: 1.4554 - val_accuracy: 0.0000e+00\n",
            "Epoch 11/100\n",
            "3/3 [==============================] - 0s 29ms/step - loss: 1.4927 - accuracy: 0.0000e+00 - val_loss: 1.4397 - val_accuracy: 0.0000e+00\n",
            "Epoch 12/100\n",
            "3/3 [==============================] - 0s 28ms/step - loss: 1.4759 - accuracy: 0.0000e+00 - val_loss: 1.4240 - val_accuracy: 0.0000e+00\n",
            "Epoch 13/100\n",
            "3/3 [==============================] - 0s 30ms/step - loss: 1.4592 - accuracy: 0.0000e+00 - val_loss: 1.4085 - val_accuracy: 0.0000e+00\n",
            "Epoch 14/100\n",
            "3/3 [==============================] - 0s 22ms/step - loss: 1.4427 - accuracy: 0.0000e+00 - val_loss: 1.3932 - val_accuracy: 0.0000e+00\n",
            "Epoch 15/100\n",
            "3/3 [==============================] - 0s 29ms/step - loss: 1.4263 - accuracy: 0.0000e+00 - val_loss: 1.3780 - val_accuracy: 0.0000e+00\n",
            "Epoch 16/100\n",
            "3/3 [==============================] - 0s 29ms/step - loss: 1.4100 - accuracy: 0.0000e+00 - val_loss: 1.3629 - val_accuracy: 0.0000e+00\n",
            "Epoch 17/100\n",
            "3/3 [==============================] - 0s 29ms/step - loss: 1.3939 - accuracy: 0.0000e+00 - val_loss: 1.3480 - val_accuracy: 0.0000e+00\n",
            "Epoch 18/100\n",
            "3/3 [==============================] - 0s 23ms/step - loss: 1.3781 - accuracy: 0.0000e+00 - val_loss: 1.3331 - val_accuracy: 0.0000e+00\n",
            "Epoch 19/100\n",
            "3/3 [==============================] - 0s 33ms/step - loss: 1.3621 - accuracy: 0.0000e+00 - val_loss: 1.3184 - val_accuracy: 0.0000e+00\n",
            "Epoch 20/100\n",
            "3/3 [==============================] - 0s 23ms/step - loss: 1.3467 - accuracy: 0.0000e+00 - val_loss: 1.3039 - val_accuracy: 0.0000e+00\n",
            "Epoch 21/100\n",
            "3/3 [==============================] - 0s 20ms/step - loss: 1.3312 - accuracy: 0.0000e+00 - val_loss: 1.2896 - val_accuracy: 0.0000e+00\n",
            "Epoch 22/100\n",
            "3/3 [==============================] - 0s 29ms/step - loss: 1.3158 - accuracy: 0.0000e+00 - val_loss: 1.2756 - val_accuracy: 0.0000e+00\n",
            "Epoch 23/100\n",
            "3/3 [==============================] - 0s 29ms/step - loss: 1.3010 - accuracy: 0.0000e+00 - val_loss: 1.2616 - val_accuracy: 0.0000e+00\n",
            "Epoch 24/100\n",
            "3/3 [==============================] - 0s 28ms/step - loss: 1.2859 - accuracy: 0.0000e+00 - val_loss: 1.2477 - val_accuracy: 0.0000e+00\n",
            "Epoch 25/100\n",
            "3/3 [==============================] - 0s 31ms/step - loss: 1.2711 - accuracy: 0.0000e+00 - val_loss: 1.2338 - val_accuracy: 0.0000e+00\n",
            "Epoch 26/100\n",
            "3/3 [==============================] - 0s 20ms/step - loss: 1.2562 - accuracy: 0.0149 - val_loss: 1.2200 - val_accuracy: 0.0000e+00\n",
            "Epoch 27/100\n",
            "3/3 [==============================] - 0s 20ms/step - loss: 1.2416 - accuracy: 0.0149 - val_loss: 1.2062 - val_accuracy: 0.0000e+00\n",
            "Epoch 28/100\n",
            "3/3 [==============================] - 0s 30ms/step - loss: 1.2268 - accuracy: 0.0149 - val_loss: 1.1925 - val_accuracy: 0.0000e+00\n",
            "Epoch 29/100\n",
            "3/3 [==============================] - 0s 21ms/step - loss: 1.2121 - accuracy: 0.0149 - val_loss: 1.1790 - val_accuracy: 0.0000e+00\n",
            "Epoch 30/100\n",
            "3/3 [==============================] - 0s 28ms/step - loss: 1.1979 - accuracy: 0.0299 - val_loss: 1.1655 - val_accuracy: 0.0303\n",
            "Epoch 31/100\n",
            "3/3 [==============================] - 0s 22ms/step - loss: 1.1835 - accuracy: 0.0299 - val_loss: 1.1524 - val_accuracy: 0.0303\n",
            "Epoch 32/100\n",
            "3/3 [==============================] - 0s 27ms/step - loss: 1.1695 - accuracy: 0.0299 - val_loss: 1.1394 - val_accuracy: 0.0303\n",
            "Epoch 33/100\n",
            "3/3 [==============================] - 0s 22ms/step - loss: 1.1557 - accuracy: 0.0448 - val_loss: 1.1265 - val_accuracy: 0.0303\n",
            "Epoch 34/100\n",
            "3/3 [==============================] - 0s 21ms/step - loss: 1.1419 - accuracy: 0.0597 - val_loss: 1.1137 - val_accuracy: 0.0303\n",
            "Epoch 35/100\n",
            "3/3 [==============================] - 0s 23ms/step - loss: 1.1283 - accuracy: 0.0597 - val_loss: 1.1010 - val_accuracy: 0.0303\n",
            "Epoch 36/100\n",
            "3/3 [==============================] - 0s 23ms/step - loss: 1.1147 - accuracy: 0.0597 - val_loss: 1.0884 - val_accuracy: 0.0303\n",
            "Epoch 37/100\n",
            "3/3 [==============================] - 0s 22ms/step - loss: 1.1016 - accuracy: 0.0746 - val_loss: 1.0760 - val_accuracy: 0.0303\n",
            "Epoch 38/100\n",
            "3/3 [==============================] - 0s 30ms/step - loss: 1.0882 - accuracy: 0.0896 - val_loss: 1.0639 - val_accuracy: 0.0606\n",
            "Epoch 39/100\n",
            "3/3 [==============================] - 0s 20ms/step - loss: 1.0754 - accuracy: 0.1045 - val_loss: 1.0518 - val_accuracy: 0.0606\n",
            "Epoch 40/100\n",
            "3/3 [==============================] - 0s 21ms/step - loss: 1.0626 - accuracy: 0.1493 - val_loss: 1.0398 - val_accuracy: 0.1515\n",
            "Epoch 41/100\n",
            "3/3 [==============================] - 0s 21ms/step - loss: 1.0498 - accuracy: 0.1493 - val_loss: 1.0279 - val_accuracy: 0.2121\n",
            "Epoch 42/100\n",
            "3/3 [==============================] - 0s 22ms/step - loss: 1.0372 - accuracy: 0.1791 - val_loss: 1.0162 - val_accuracy: 0.2424\n",
            "Epoch 43/100\n",
            "3/3 [==============================] - 0s 33ms/step - loss: 1.0247 - accuracy: 0.2090 - val_loss: 1.0045 - val_accuracy: 0.2727\n",
            "Epoch 44/100\n",
            "3/3 [==============================] - 0s 31ms/step - loss: 1.0123 - accuracy: 0.2239 - val_loss: 0.9930 - val_accuracy: 0.2727\n",
            "Epoch 45/100\n",
            "3/3 [==============================] - 0s 22ms/step - loss: 1.0002 - accuracy: 0.2836 - val_loss: 0.9817 - val_accuracy: 0.3333\n",
            "Epoch 46/100\n",
            "3/3 [==============================] - 0s 22ms/step - loss: 0.9880 - accuracy: 0.2836 - val_loss: 0.9703 - val_accuracy: 0.3333\n",
            "Epoch 47/100\n",
            "3/3 [==============================] - 0s 30ms/step - loss: 0.9761 - accuracy: 0.2985 - val_loss: 0.9590 - val_accuracy: 0.3636\n",
            "Epoch 48/100\n",
            "3/3 [==============================] - 0s 23ms/step - loss: 0.9640 - accuracy: 0.3284 - val_loss: 0.9481 - val_accuracy: 0.3939\n",
            "Epoch 49/100\n",
            "3/3 [==============================] - 0s 21ms/step - loss: 0.9525 - accuracy: 0.3284 - val_loss: 0.9373 - val_accuracy: 0.3939\n",
            "Epoch 50/100\n",
            "3/3 [==============================] - 0s 23ms/step - loss: 0.9412 - accuracy: 0.3284 - val_loss: 0.9268 - val_accuracy: 0.3939\n",
            "Epoch 51/100\n",
            "3/3 [==============================] - 0s 29ms/step - loss: 0.9301 - accuracy: 0.3433 - val_loss: 0.9164 - val_accuracy: 0.3939\n",
            "Epoch 52/100\n",
            "3/3 [==============================] - 0s 36ms/step - loss: 0.9190 - accuracy: 0.3433 - val_loss: 0.9062 - val_accuracy: 0.3939\n",
            "Epoch 53/100\n",
            "3/3 [==============================] - 0s 24ms/step - loss: 0.9082 - accuracy: 0.3582 - val_loss: 0.8960 - val_accuracy: 0.3939\n",
            "Epoch 54/100\n",
            "3/3 [==============================] - 0s 31ms/step - loss: 0.8974 - accuracy: 0.3582 - val_loss: 0.8858 - val_accuracy: 0.3939\n",
            "Epoch 55/100\n",
            "3/3 [==============================] - 0s 21ms/step - loss: 0.8867 - accuracy: 0.3582 - val_loss: 0.8757 - val_accuracy: 0.3939\n",
            "Epoch 56/100\n",
            "3/3 [==============================] - 0s 21ms/step - loss: 0.8760 - accuracy: 0.3731 - val_loss: 0.8659 - val_accuracy: 0.4242\n",
            "Epoch 57/100\n",
            "3/3 [==============================] - 0s 22ms/step - loss: 0.8657 - accuracy: 0.3881 - val_loss: 0.8562 - val_accuracy: 0.4545\n",
            "Epoch 58/100\n",
            "3/3 [==============================] - 0s 28ms/step - loss: 0.8554 - accuracy: 0.3881 - val_loss: 0.8466 - val_accuracy: 0.4545\n",
            "Epoch 59/100\n",
            "3/3 [==============================] - 0s 30ms/step - loss: 0.8453 - accuracy: 0.3881 - val_loss: 0.8370 - val_accuracy: 0.4545\n",
            "Epoch 60/100\n",
            "3/3 [==============================] - 0s 29ms/step - loss: 0.8351 - accuracy: 0.4030 - val_loss: 0.8276 - val_accuracy: 0.4545\n",
            "Epoch 61/100\n",
            "3/3 [==============================] - 0s 30ms/step - loss: 0.8253 - accuracy: 0.4179 - val_loss: 0.8183 - val_accuracy: 0.4848\n",
            "Epoch 62/100\n",
            "3/3 [==============================] - 0s 21ms/step - loss: 0.8154 - accuracy: 0.4478 - val_loss: 0.8090 - val_accuracy: 0.4848\n",
            "Epoch 63/100\n",
            "3/3 [==============================] - 0s 21ms/step - loss: 0.8057 - accuracy: 0.4478 - val_loss: 0.7998 - val_accuracy: 0.5152\n",
            "Epoch 64/100\n",
            "3/3 [==============================] - 0s 21ms/step - loss: 0.7960 - accuracy: 0.4776 - val_loss: 0.7907 - val_accuracy: 0.5152\n",
            "Epoch 65/100\n",
            "3/3 [==============================] - 0s 23ms/step - loss: 0.7865 - accuracy: 0.4776 - val_loss: 0.7817 - val_accuracy: 0.5152\n",
            "Epoch 66/100\n",
            "3/3 [==============================] - 0s 29ms/step - loss: 0.7770 - accuracy: 0.4776 - val_loss: 0.7729 - val_accuracy: 0.5152\n",
            "Epoch 67/100\n",
            "3/3 [==============================] - 0s 22ms/step - loss: 0.7677 - accuracy: 0.4776 - val_loss: 0.7642 - val_accuracy: 0.5152\n",
            "Epoch 68/100\n",
            "3/3 [==============================] - 0s 25ms/step - loss: 0.7586 - accuracy: 0.4776 - val_loss: 0.7557 - val_accuracy: 0.5152\n",
            "Epoch 69/100\n",
            "3/3 [==============================] - 0s 29ms/step - loss: 0.7498 - accuracy: 0.4776 - val_loss: 0.7474 - val_accuracy: 0.5152\n",
            "Epoch 70/100\n",
            "3/3 [==============================] - 0s 29ms/step - loss: 0.7410 - accuracy: 0.4776 - val_loss: 0.7393 - val_accuracy: 0.5152\n",
            "Epoch 71/100\n",
            "3/3 [==============================] - 0s 21ms/step - loss: 0.7326 - accuracy: 0.4776 - val_loss: 0.7313 - val_accuracy: 0.5152\n",
            "Epoch 72/100\n",
            "3/3 [==============================] - 0s 22ms/step - loss: 0.7242 - accuracy: 0.4776 - val_loss: 0.7234 - val_accuracy: 0.5152\n",
            "Epoch 73/100\n",
            "3/3 [==============================] - 0s 23ms/step - loss: 0.7159 - accuracy: 0.4776 - val_loss: 0.7156 - val_accuracy: 0.5152\n",
            "Epoch 74/100\n",
            "3/3 [==============================] - 0s 21ms/step - loss: 0.7077 - accuracy: 0.4776 - val_loss: 0.7078 - val_accuracy: 0.5152\n",
            "Epoch 75/100\n",
            "3/3 [==============================] - 0s 23ms/step - loss: 0.6996 - accuracy: 0.4776 - val_loss: 0.7002 - val_accuracy: 0.5152\n",
            "Epoch 76/100\n",
            "3/3 [==============================] - 0s 25ms/step - loss: 0.6916 - accuracy: 0.4925 - val_loss: 0.6927 - val_accuracy: 0.5152\n",
            "Epoch 77/100\n",
            "3/3 [==============================] - 0s 36ms/step - loss: 0.6837 - accuracy: 0.4925 - val_loss: 0.6853 - val_accuracy: 0.5152\n",
            "Epoch 78/100\n",
            "3/3 [==============================] - 0s 24ms/step - loss: 0.6760 - accuracy: 0.4925 - val_loss: 0.6780 - val_accuracy: 0.5152\n",
            "Epoch 79/100\n",
            "3/3 [==============================] - 0s 21ms/step - loss: 0.6684 - accuracy: 0.4925 - val_loss: 0.6707 - val_accuracy: 0.5152\n",
            "Epoch 80/100\n",
            "3/3 [==============================] - 0s 28ms/step - loss: 0.6606 - accuracy: 0.4925 - val_loss: 0.6633 - val_accuracy: 0.5152\n",
            "Epoch 81/100\n",
            "3/3 [==============================] - 0s 29ms/step - loss: 0.6531 - accuracy: 0.4925 - val_loss: 0.6561 - val_accuracy: 0.5152\n",
            "Epoch 82/100\n",
            "3/3 [==============================] - 0s 21ms/step - loss: 0.6457 - accuracy: 0.4925 - val_loss: 0.6489 - val_accuracy: 0.5152\n",
            "Epoch 83/100\n",
            "3/3 [==============================] - 0s 19ms/step - loss: 0.6381 - accuracy: 0.4925 - val_loss: 0.6419 - val_accuracy: 0.5152\n",
            "Epoch 84/100\n",
            "3/3 [==============================] - 0s 30ms/step - loss: 0.6307 - accuracy: 0.4925 - val_loss: 0.6349 - val_accuracy: 0.5152\n",
            "Epoch 85/100\n",
            "3/3 [==============================] - 0s 23ms/step - loss: 0.6235 - accuracy: 0.4925 - val_loss: 0.6280 - val_accuracy: 0.5152\n",
            "Epoch 86/100\n",
            "3/3 [==============================] - 0s 32ms/step - loss: 0.6164 - accuracy: 0.5373 - val_loss: 0.6214 - val_accuracy: 0.5152\n",
            "Epoch 87/100\n",
            "3/3 [==============================] - 0s 29ms/step - loss: 0.6095 - accuracy: 0.5522 - val_loss: 0.6149 - val_accuracy: 0.5152\n",
            "Epoch 88/100\n",
            "3/3 [==============================] - 0s 29ms/step - loss: 0.6027 - accuracy: 0.5672 - val_loss: 0.6085 - val_accuracy: 0.5455\n",
            "Epoch 89/100\n",
            "3/3 [==============================] - 0s 28ms/step - loss: 0.5961 - accuracy: 0.5821 - val_loss: 0.6019 - val_accuracy: 0.5455\n",
            "Epoch 90/100\n",
            "3/3 [==============================] - 0s 32ms/step - loss: 0.5892 - accuracy: 0.6119 - val_loss: 0.5955 - val_accuracy: 0.5455\n",
            "Epoch 91/100\n",
            "3/3 [==============================] - 0s 21ms/step - loss: 0.5825 - accuracy: 0.6119 - val_loss: 0.5891 - val_accuracy: 0.5455\n",
            "Epoch 92/100\n",
            "3/3 [==============================] - 0s 29ms/step - loss: 0.5759 - accuracy: 0.6269 - val_loss: 0.5827 - val_accuracy: 0.5455\n",
            "Epoch 93/100\n",
            "3/3 [==============================] - 0s 28ms/step - loss: 0.5693 - accuracy: 0.6418 - val_loss: 0.5763 - val_accuracy: 0.5455\n",
            "Epoch 94/100\n",
            "3/3 [==============================] - 0s 22ms/step - loss: 0.5627 - accuracy: 0.6716 - val_loss: 0.5701 - val_accuracy: 0.5455\n",
            "Epoch 95/100\n",
            "3/3 [==============================] - 0s 21ms/step - loss: 0.5563 - accuracy: 0.6866 - val_loss: 0.5641 - val_accuracy: 0.5455\n",
            "Epoch 96/100\n",
            "3/3 [==============================] - 0s 31ms/step - loss: 0.5502 - accuracy: 0.7313 - val_loss: 0.5583 - val_accuracy: 0.5455\n",
            "Epoch 97/100\n",
            "3/3 [==============================] - 0s 33ms/step - loss: 0.5442 - accuracy: 0.7463 - val_loss: 0.5525 - val_accuracy: 0.6061\n",
            "Epoch 98/100\n",
            "3/3 [==============================] - 0s 20ms/step - loss: 0.5382 - accuracy: 0.7612 - val_loss: 0.5469 - val_accuracy: 0.6061\n",
            "Epoch 99/100\n",
            "3/3 [==============================] - 0s 21ms/step - loss: 0.5324 - accuracy: 0.7612 - val_loss: 0.5414 - val_accuracy: 0.6364\n",
            "Epoch 100/100\n",
            "3/3 [==============================] - 0s 21ms/step - loss: 0.5267 - accuracy: 0.8060 - val_loss: 0.5359 - val_accuracy: 0.6970\n"
          ]
        }
      ]
    },
    {
      "cell_type": "code",
      "source": [
        "import matplotlib.pyplot as plt"
      ],
      "metadata": {
        "id": "ftdLDr6s-mkv"
      },
      "execution_count": null,
      "outputs": []
    },
    {
      "cell_type": "code",
      "source": [
        "plt.plot(r.history['loss'], label = 'loss')\n",
        "plt.plot(r.history['val_loss'], label = 'val_loss')"
      ],
      "metadata": {
        "colab": {
          "base_uri": "https://localhost:8080/",
          "height": 282
        },
        "id": "aJ3SKS7Y-pP2",
        "outputId": "f843f4c0-8da1-424d-d5aa-a0557d9ad44d"
      },
      "execution_count": null,
      "outputs": [
        {
          "output_type": "execute_result",
          "data": {
            "text/plain": [
              "[<matplotlib.lines.Line2D at 0x7f1b89c81c10>]"
            ]
          },
          "metadata": {},
          "execution_count": 24
        },
        {
          "output_type": "display_data",
          "data": {
            "text/plain": [
              "<Figure size 432x288 with 1 Axes>"
            ],
            "image/png": "[encoded data removed]"
          },
          "metadata": {
            "needs_background": "light"
          }
        }
      ]
    },
    {
      "cell_type": "code",
      "source": [
        "plt.plot(r.history['accuracy'], label = 'acuuracy')\n",
        "plt.plot(r.history['val_accuracy'], label = 'val_accuracy')"
      ],
      "metadata": {
        "colab": {
          "base_uri": "https://localhost:8080/",
          "height": 282
        },
        "id": "hn_jThHi-qrO",
        "outputId": "084b72bb-1484-4291-ea96-fbc1fd87a1c0"
      },
      "execution_count": null,
      "outputs": [
        {
          "output_type": "execute_result",
          "data": {
            "text/plain": [
              "[<matplotlib.lines.Line2D at 0x7f1b89b2e250>]"
            ]
          },
          "metadata": {},
          "execution_count": 25
        },
        {
          "output_type": "display_data",
          "data": {
            "text/plain": [
              "<Figure size 432x288 with 1 Axes>"
            ],
            "image/png": "[encoded data removed]"
          },
          "metadata": {
            "needs_background": "light"
          }
        }
      ]
    },
    {
      "cell_type": "code",
      "source": [],
      "metadata": {
        "id": "DGyjQoQw-slW"
      },
      "execution_count": null,
      "outputs": []
    }
  ]
}